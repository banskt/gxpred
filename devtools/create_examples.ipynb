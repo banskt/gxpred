{
 "cells": [
  {
   "cell_type": "code",
   "execution_count": 1,
   "metadata": {},
   "outputs": [],
   "source": [
    "%load_ext autoreload\n",
    "%autoreload 2\n",
    "\n",
    "\n",
    "import sys, os\n",
    "sys.path.append(\"../\")\n",
    "\n",
    "import numpy as np\n",
    "from config import *\n",
    "\n",
    "from helper_functions import load_target_genes\n"
   ]
  },
  {
   "cell_type": "code",
   "execution_count": 3,
   "metadata": {
    "scrolled": true
   },
   "outputs": [
    {
     "name": "stdout",
     "output_type": "stream",
     "text": [
      "Read 641 high r2 genes\n",
      "\n",
      "Gene ENSG00000151065.9, CHR 12, R2 value: 0.002064254894591133 \n",
      "Gene ENSG00000078237.4, CHR 12, R2 value: 0.0014273084981956 \n",
      "Gene ENSG00000139194.3, CHR 12, R2 value: 0.002142493224296209 \n",
      "Gene ENSG00000173262.7, CHR 12, R2 value: 0.001068218937071411 \n",
      "Gene ENSG00000171860.4, CHR 12, R2 value: 0.5476060358199526 \n",
      "Gene ENSG00000205846.3, CHR 12, R2 value: 0.1061251194649761 \n",
      "Gene ENSG00000166527.3, CHR 12, R2 value: 0.09676138334560905 \n",
      "Gene ENSG00000256660.1, CHR 12, R2 value: 0.22039412271947317 \n",
      "Gene ENSG00000172243.13, CHR 12, R2 value: 0.03639756962208574 \n",
      "Gene ENSG00000139112.6, CHR 12, R2 value: 0.010146791070866234 \n",
      "Gene ENSG00000013583.4, CHR 12, R2 value: 0.020975032822613083 \n",
      "Gene ENSG00000123104.7, CHR 12, R2 value: 0.02096216113437217 \n",
      "Gene ENSG00000064115.6, CHR 12, R2 value: 0.15144348128426358 \n",
      "Gene ENSG00000139117.9, CHR 12, R2 value: 0.0025246906892602973 \n",
      "Gene ENSG00000139174.6, CHR 12, R2 value: 0.050114437343469154 \n",
      "Gene ENSG00000161800.8, CHR 12, R2 value: 0.008272413584595482 \n",
      "Gene ENSG00000139610.1, CHR 12, R2 value: 0.5053130952402622 \n",
      "Gene ENSG00000167612.8, CHR 12, R2 value: 0.0012165753753343805 \n",
      "Gene ENSG00000123395.10, CHR 12, R2 value: 0.008621091445674621 \n",
      "Gene ENSG00000170486.6, CHR 12, R2 value: 0.003295813900079269 \n",
      "Gene ENSG00000185640.5, CHR 12, R2 value: 0.002128707313423068 \n",
      "Gene ENSG00000135476.7, CHR 12, R2 value: 0.008861855999544019 \n",
      "Gene ENSG00000161638.6, CHR 12, R2 value: 0.003075147922824804 \n",
      "Gene ENSG00000123338.8, CHR 12, R2 value: 0.006554113509168975 \n",
      "Gene ENSG00000170473.12, CHR 12, R2 value: 0.001577435631802687 \n",
      "Gene ENSG00000135452.5, CHR 12, R2 value: 0.018265340720225978 \n",
      "Gene ENSG00000135655.9, CHR 12, R2 value: 0.057430272384890284 \n",
      "Gene ENSG00000183735.5, CHR 12, R2 value: 0.001901136426253035 \n",
      "Gene ENSG00000111554.10, CHR 12, R2 value: 0.03708505862366912 \n",
      "Gene ENSG00000090382.2, CHR 12, R2 value: 0.593133225848366 \n",
      "Gene ENSG00000127337.2, CHR 12, R2 value: 0.45879553181528804 \n",
      "Gene ENSG00000135643.4, CHR 12, R2 value: 0.1275436429922718 \n",
      "Gene ENSG00000111615.8, CHR 12, R2 value: 0.0068724626316328755 \n",
      "Gene ENSG00000139323.9, CHR 12, R2 value: 0.008202678320384427 \n",
      "Gene ENSG00000184752.8, CHR 12, R2 value: 0.1988641738163443 \n",
      "Gene ENSG00000139343.6, CHR 12, R2 value: 0.018953739483814604 \n",
      "Gene ENSG00000111145.3, CHR 12, R2 value: 0.0096256027472299 \n",
      "Gene ENSG00000136048.9, CHR 12, R2 value: 0.11064592986770819 \n",
      "Gene ENSG00000120860.6, CHR 12, R2 value: 0.15159466902161212 \n",
      "Gene ENSG00000136052.5, CHR 12, R2 value: 0.0051728470375714194 \n",
      "Gene ENSG00000151131.5, CHR 12, R2 value: 0.0022991066056615287 \n",
      "Gene ENSG00000136051.9, CHR 12, R2 value: 0.003294361397290633 \n",
      "Gene ENSG00000166046.6, CHR 12, R2 value: 0.004307217041310259 \n",
      "Gene ENSG00000110851.7, CHR 12, R2 value: 0.02303219571667912 \n",
      "Gene ENSG00000136003.11, CHR 12, R2 value: 0.009995971486859939 \n",
      "Gene ENSG00000110921.7, CHR 12, R2 value: 0.002838257488868789 \n",
      "Gene ENSG00000111199.6, CHR 12, R2 value: 0.0017646003944142897 \n",
      "Gene ENSG00000176871.4, CHR 12, R2 value: 0.0049086013854037925 \n",
      "Gene ENSG00000176834.9, CHR 12, R2 value: 0.08233596443006494 \n",
      "Gene ENSG00000170855.3, CHR 12, R2 value: 0.007839525730837722 \n",
      "Gene ENSG00000110917.3, CHR 12, R2 value: 0.011525089517307624 \n",
      "Gene ENSG00000182500.7, CHR 12, R2 value: 0.036427360521945416 \n",
      "Gene ENSG00000183955.8, CHR 12, R2 value: 0.0017115780728263268 \n",
      "Gene ENSG00000139370.6, CHR 12, R2 value: 0.0011786134383359162 \n",
      "Gene ENSG00000151948.7, CHR 12, R2 value: 0.0013453331798752332 \n",
      "Gene ENSG00000111450.9, CHR 12, R2 value: 0.01866714972560955 \n",
      "Gene ENSG00000184967.2, CHR 12, R2 value: 0.013427273405189968 \n"
     ]
    }
   ],
   "source": [
    "\n",
    "# Load gene list\n",
    "genelistfile = \"genes4testing_high_and_low_r2_0.001\"\n",
    "selected_gene_ids = load_target_genes(genelistfile, gene_info, chrom)"
   ]
  },
  {
   "cell_type": "code",
   "execution_count": 17,
   "metadata": {},
   "outputs": [],
   "source": [
    "candidates = [\"ENSG00000090382.2\", \"ENSG00000127337.2\", \"ENSG00000139610.1\", \"ENSG00000171860.4\", \"ENSG00000256660.1\", \"ENSG00000205846.3\"]\n",
    "home = '/home/fsimone'\n",
    "outdir = \"fixtures\"\n",
    "os.makedirs(outdir)\n"
   ]
  },
  {
   "cell_type": "code",
   "execution_count": 18,
   "metadata": {},
   "outputs": [],
   "source": [
    "# Extract gtf data\n",
    "import gzip \n",
    "import numpy as np\n",
    "import os\n",
    "\n",
    "gtfpath = os.path.join(home,\"datasets/gtex/gencode.v19.annotation.gtf.gz\")\n",
    "annotfile = os.path.realpath(gtfpath)\n",
    "feature = 'gene'\n",
    "biotype=['protein_coding']\n",
    "include_chrom = 12\n",
    "include_chroms=['{:d}'.format(x + 1) for x in range(22)]\n",
    "\n",
    "with gzip.open(annotfile, 'r') as mfile:\n",
    "    for line in mfile:\n",
    "        linesplit = line.decode().strip().split('\\t')\n",
    "        if linesplit[0][0] == '#' or linesplit[2] != feature: continue # skip header\n",
    "\n",
    "        chrom = linesplit[0][3:]\n",
    "        if include_chrom > 0:\n",
    "            include_chroms = ['{:d}'.format(include_chrom)]\n",
    "        if chrom not in include_chroms: continue\n",
    "\n",
    "        # Any particular biotype selected?\n",
    "        infolist = linesplit[8].split(';')\n",
    "        if len(biotype) > 0:\n",
    "            rowtype = infolist[2].strip().split(' ')[1].replace('\"','')\n",
    "            if rowtype not in biotype: continue\n",
    "\n",
    "        # TSS: gene start (0-based coordinates for BED)\n",
    "        if linesplit[6] == '+':\n",
    "            start = np.int64(linesplit[3]) - 1\n",
    "            end   = np.int64(linesplit[4])\n",
    "        elif linesplit[6] == '-':\n",
    "            start = np.int64(linesplit[3])  # last base of gene\n",
    "            end   = np.int64(linesplit[4]) - 1\n",
    "        else:\n",
    "            raise ValueError('Strand not specified.')\n",
    "\n",
    "        gene_id = infolist[0].strip().split(' ')[1].replace('\"','')\n",
    "        gene_name = infolist[4].strip().split(' ')[1].replace('\"','')\n",
    "        if gene_id in candidates:\n",
    "            with gzip.open(os.path.join(outdir, gene_id+\".gtf.gz\"), \"wb\") as outstream:\n",
    "                outstream.write(line)"
   ]
  },
  {
   "cell_type": "code",
   "execution_count": 51,
   "metadata": {},
   "outputs": [
    {
     "name": "stdout",
     "output_type": "stream",
     "text": [
      "[GeneInfo(name='LYZ', ensembl_id='ENSG00000090382.2', chrom=12, start=69742120, end=69748014)]\n",
      "[GeneInfo(name='YEATS4', ensembl_id='ENSG00000127337.2', chrom=12, start=69753482, end=69784576)]\n",
      "[GeneInfo(name='CELA1', ensembl_id='ENSG00000139610.1', chrom=12, start=51722227, end=51740462)]\n",
      "[GeneInfo(name='C3AR1', ensembl_id='ENSG00000171860.4', chrom=12, start=8210898, end=8219066)]\n",
      "[GeneInfo(name='CLEC12B', ensembl_id='ENSG00000256660.1', chrom=12, start=10163225, end=10171218)]\n",
      "[GeneInfo(name='CLEC6A', ensembl_id='ENSG00000205846.3', chrom=12, start=8608521, end=8630926)]\n"
     ]
    }
   ],
   "source": [
    "# Extract cis-snps for each candidate gene\n",
    "from iotools import readgtf\n",
    "chrom = 12\n",
    "gtfile = \"GTEx_450Indiv_genot_imput_info04_maf01_HWEp1E6_dbSNP135IDs_donorIDs_dosage_chr{:d}.gz\".format(chrom)\n",
    "windows = 1000000\n",
    "\n",
    "for gene in candidates:\n",
    "    genegtfpath = os.path.join(outdir, gene+\".gtf.gz\")\n",
    "    gene_info = readgtf.gencode_v12(genegtfpath, include_chrom = chrom)\n",
    "    with gzip.open(os.path.join(outdir, gene+\".genotype.gtex.gz\"), 'wb') as outstream:\n",
    "        with gzip.open(gtfile, 'r') as instream:\n",
    "            print(gene_info)\n",
    "            for line in instream:\n",
    "                arr = line.decode().strip().split()\n",
    "                pos = int(arr[2])\n",
    "                if pos < int(gene_info[0].start - window):\n",
    "                    continue\n",
    "                if pos > int(gene_info[0].end + window):\n",
    "                    break\n",
    "                outstream.write(line)\n",
    "\n"
   ]
  },
  {
   "cell_type": "code",
   "execution_count": 53,
   "metadata": {},
   "outputs": [],
   "source": [
    "# Extract gene expressions for GTEx\n",
    "\n",
    "exprfile = \"gtex_wholeblood_normalized.lm_corr.exp.klinikum.txt\"\n",
    "for gene in candidates:\n",
    "    with open(exprfile, 'r') as instream:\n",
    "        headers = instream.readline()\n",
    "        for line in instream:\n",
    "            arr = line.strip().split()\n",
    "            if arr[0] == gene:\n",
    "                with open(os.path.join(outdir, gene+\".expression.gtex.txt\"), 'w') as outstream:\n",
    "                    outstream.write(headers)\n",
    "                    outstream.write(line)"
   ]
  },
  {
   "cell_type": "code",
   "execution_count": null,
   "metadata": {},
   "outputs": [],
   "source": []
  }
 ],
 "metadata": {
  "kernelspec": {
   "display_name": "Python 3",
   "language": "python",
   "name": "python3"
  },
  "language_info": {
   "codemirror_mode": {
    "name": "ipython",
    "version": 3
   },
   "file_extension": ".py",
   "mimetype": "text/x-python",
   "name": "python",
   "nbconvert_exporter": "python",
   "pygments_lexer": "ipython3",
   "version": "3.6.4"
  }
 },
 "nbformat": 4,
 "nbformat_minor": 2
}
