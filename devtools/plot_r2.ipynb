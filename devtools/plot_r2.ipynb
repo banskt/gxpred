{
 "cells": [
  {
   "cell_type": "code",
   "execution_count": null,
   "metadata": {
    "collapsed": true
   },
   "outputs": [],
   "source": [
    "import pandas as pd\n",
    "import os\n",
    "import matplotlib.pyplot as plt\n",
    "import numpy as np\n",
    "\n",
    "results_dir = \"/mnt/storage/saikat/work/gwas-eQTL/gxpred_pilot/gtex_cardiogenics/z1\"\n",
    "\n",
    "dirs = os.listdir(results_dir)\n",
    "\n",
    "from collections import defaultdict\n",
    "\n",
    "failures = defaultdict(list)\n",
    "by_prior = defaultdict(list)\n",
    "\n",
    "all_r2_df = np.array([])\n",
    "melted_r2_df = np.array([])\n",
    "for prior in [\"test_1KGannots_fixedPI\"]: # \"NoPriors_distfeat\", \n",
    "    counter = 0\n",
    "    subdirs = os.listdir(os.path.join(results_dir,prior))\n",
    "    for sd in subdirs:\n",
    "        _bslmm, _cutoff, _distfeat, _feat, pi, _mu, sigma, sigmabg, _tau = sd.split(\"_\")\n",
    "#         print(prior, pi, sigma, sigmabg)\n",
    "        r2file = os.path.join(results_dir,prior,sd,\"genes_r2.txt\")\n",
    "        if not os.path.exists(r2file):\n",
    "            r2file = os.path.join(results_dir,prior,sd,\"genes_r2_12.txt\")\n",
    "            if not os.path.exists(r2file):\n",
    "                continue\n",
    "        df = pd.read_table(r2file, header=0)\n",
    "        newcolname = _cutoff+\"_\"+_distfeat+\"_\"+_feat+\"_\"+sigmabg+\"_\"+pi\n",
    "        \n",
    "        orig_df = df.copy()\n",
    "        df=df.rename(columns = {'gxpred-bslmm':newcolname})\n",
    "        # df.dropna(axis=0, subset=[\"Success\"], inplace=True)\n",
    "        counter += 1        \n",
    "        \n",
    "        orig_df[\"i_sigma\"] = sigma\n",
    "        orig_df[\"i_sigmabg\"] = sigmabg\n",
    "        orig_df[\"i_pi\"] = pi\n",
    "        orig_df[\"prior\"] = prior\n",
    "        orig_df[\"params\"] = newcolname\n",
    "        print(counter,prior,sd,\"\\t\",\"Not Failures: \",np.sum(df.Success))\n",
    "        \n",
    "#         failures[d].append({sd:np.sum(df.Success)})\n",
    "        # Merge all r2 values into one big df, one set of r2 per column\n",
    "        if all_r2_df.shape[0] == 0:\n",
    "            all_r2_df = df[[\"Ensembl_ID\",newcolname]]\n",
    "        else:\n",
    "            all_r2_df = all_r2_df.merge(df[[\"Ensembl_ID\",newcolname]], on=\"Ensembl_ID\", how=\"outer\")\n",
    "        \n",
    "        # Merge all r2 values in a melted fashion, including init params\n",
    "        if melted_r2_df.shape[0] == 0:\n",
    "            print(\"wii\")\n",
    "            melted_r2_df = orig_df.copy()\n",
    "        else:\n",
    "            melted_r2_df = pd.concat([melted_r2_df, orig_df],ignore_index=True )\n"
   ]
  }
 ],
 "metadata": {
  "kernelspec": {
   "display_name": "Python 3",
   "language": "python",
   "name": "python3"
  },
  "language_info": {
   "codemirror_mode": {
    "name": "ipython",
    "version": 3
   },
   "file_extension": ".py",
   "mimetype": "text/x-python",
   "name": "python",
   "nbconvert_exporter": "python",
   "pygments_lexer": "ipython3",
   "version": "3.6.1"
  }
 },
 "nbformat": 4,
 "nbformat_minor": 2
}
