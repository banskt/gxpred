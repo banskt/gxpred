{
 "cells": [
  {
   "cell_type": "code",
   "execution_count": 3,
   "metadata": {},
   "outputs": [],
   "source": [
    "%reload_ext autoreload\n",
    "%autoreload 2\n",
    "# %load_ext wurlitzer\n",
    "\n",
    "import sys\n",
    "sys.path.append(\"../\")\n",
    "\n",
    "import numpy as np\n",
    "import time\n",
    "from utils import model\n",
    "from inference import logmarglik\n",
    "from inference import zstates as zs\n",
    "from utils import hyperparameters\n",
    "from iotools import snp_annotator\n",
    "\n",
    "import matplotlib.pyplot as plt\n",
    "import utils.mpl_stylesheet as mplstyle\n",
    "\n",
    "mplstyle.banskt_presentation()"
   ]
  },
  {
   "cell_type": "code",
   "execution_count": 4,
   "metadata": {},
   "outputs": [
    {
     "data": {
      "image/png": "[encoded data removed]",
      "text/plain": [
       "<matplotlib.figure.Figure at 0x7f3023677be0>"
      ]
     },
     "metadata": {},
     "output_type": "display_data"
    },
    {
     "name": "stdout",
     "output_type": "stream",
     "text": [
      "Creating phenotype with sigma 0.01, heritability 0.00438991, sigma_tau 0.997803\n",
      "Using 34 causal SNPs\n"
     ]
    }
   ],
   "source": [
    "nsample = 500\n",
    "nsnps = 3000\n",
    "pi = 0.01\n",
    "mu = 0.0\n",
    "sigmabg = 0.0\n",
    "sigma = 0.01\n",
    "\n",
    "# No feature\n",
    "features = np.ones((nsnps, 1))\n",
    "\n",
    "# Add a random feature\n",
    "#myfeat = np.zeros((nsnps, 1))\n",
    "#myfeat[np.random.permutation(np.arange(nsnps))[:int(nsnps / 4)]] = 1\n",
    "#features = np.concatenate((features, myfeat), axis=1)\n",
    "\n",
    "# Add distance feature\n",
    "# dist = np.linspace(-40000, 40000, nsnps)\n",
    "# distfeat = snp_annotator.myTcurve(dist)\n",
    "# distfeat = 1 / distfeat\n",
    "distfeat = np.ones(nsnps)\n",
    "\n",
    "# Create gamma\n",
    "gamma = np.zeros(features.shape[1])\n",
    "gamma[0] = - np.log((1 / pi) - 1)\n",
    "#enrich = 2\n",
    "#gval = np.log(enrich) - np.log(1 + (1 - enrich) * np.exp(gamma[0]))\n",
    "#\n",
    "#gamma[1:] = np.repeat(gval, features.shape[1] - 1)\n",
    "\n",
    "x, y, csnps, v = model.simulate(nsample, nsnps, \n",
    "                                features, 1 / distfeat, gamma,\n",
    "                                mu = mu,\n",
    "                                sigma = sigma,\n",
    "                                sigmabg = sigmabg,)"
   ]
  },
  {
   "cell_type": "code",
   "execution_count": 5,
   "metadata": {},
   "outputs": [
    {
     "data": {
      "image/png": "[encoded data removed]",
      "text/plain": [
       "<matplotlib.figure.Figure at 0x7f3044328860>"
      ]
     },
     "metadata": {},
     "output_type": "display_data"
    }
   ],
   "source": [
    "plt.figure()\n",
    "plt.hist(v[csnps])\n",
    "plt.show()"
   ]
  },
  {
   "cell_type": "code",
   "execution_count": 6,
   "metadata": {
    "collapsed": true
   },
   "outputs": [],
   "source": [
    "tau = 1 / (1 - np.sum(np.square(v[csnps])))\n",
    "params = np.append(gamma, [mu, sigma, sigmabg, tau])\n",
    "# scaledparams = hyperparameters.scale(params)\n",
    "# cmax = 1\n",
    "# zstates = zs.create(scaledparams, x, y, features, distfeat, cmax, nsnps, 0.98)\n",
    "zstates = [[]] + list([i] for i in csnps)"
   ]
  },
  {
   "cell_type": "code",
   "execution_count": null,
   "metadata": {},
   "outputs": [],
   "source": [
    "# Plot for sigma\n",
    "\n",
    "sigmavals = np.logspace(-3, -1, num = 10, base = 10)\n",
    "lml = np.zeros_like(sigmavals)\n",
    "nfeat = features.shape[1]\n",
    "\n",
    "print(\"Testing sigma\")\n",
    "for i, msig in enumerate(sigmavals):\n",
    "    print(\".\", end=\"\")\n",
    "    _params = params.copy()\n",
    "    _params[nfeat + 1] = msig\n",
    "    _scaledparams = hyperparameters.scale(_params)\n",
    "    lml[i] = logmarglik.func(_scaledparams, x, y, features, distfeat, zstates)\n",
    "print(\".\")\n",
    "    \n",
    "actual_min = sigmavals[np.where(np.isin(lml, np.min(lml)))[0][0]]\n",
    "print(\"Ground truth: {:g}\".format(sigma))\n",
    "print(\"Observerd min: {:g}\".format(actual_min))\n",
    "\n",
    "fig = plt.figure()\n",
    "ax = fig.add_subplot(111)\n",
    "ax.scatter(np.log10(sigmavals), lml)\n",
    "ax.axvline(np.log10(sigma), linestyle=\"dashed\", color = mplstyle.banskt_colors()[1])\n",
    "ax.axvline(np.log10(actual_min), color = mplstyle.banskt_colors()[2])\n",
    "plt.show()"
   ]
  },
  {
   "cell_type": "code",
   "execution_count": null,
   "metadata": {},
   "outputs": [],
   "source": [
    "# Plot for gamma\n",
    "\n",
    "gammavals = np.linspace(-10, 0, num = 50)\n",
    "lml = np.zeros_like(gammavals)\n",
    "nfeat = features.shape[1]\n",
    "\n",
    "print(\"Testing gamma\")\n",
    "for i, mgamma in enumerate(gammavals):\n",
    "    print(\".\", end=\"\")\n",
    "    _params = params.copy()\n",
    "    _params[0] = mgamma\n",
    "    _scaledparams = hyperparameters.scale(_params)\n",
    "    lml[i] = logmarglik.func(_scaledparams, x, y, features, distfeat, zstates)\n",
    "print(\".\")\n",
    "    \n",
    "actual_min = gammavals[np.where(np.isin(lml, np.min(lml)))[0][0]]\n",
    "print(\"Ground truth: {:g}\".format(gamma[0]))\n",
    "print(\"Observerd min: {:g}\".format(actual_min))\n",
    "\n",
    "fig = plt.figure()\n",
    "ax = fig.add_subplot(111)\n",
    "ax.scatter(gammavals, lml)\n",
    "ax.axvline(gamma[0], linestyle=\"dashed\", color = mplstyle.banskt_colors()[1])\n",
    "ax.axvline(actual_min, color = mplstyle.banskt_colors()[2])\n",
    "plt.show()"
   ]
  },
  {
   "cell_type": "code",
   "execution_count": null,
   "metadata": {
    "collapsed": true
   },
   "outputs": [],
   "source": []
  }
 ],
 "metadata": {
  "kernelspec": {
   "display_name": "Python 3",
   "language": "python",
   "name": "python3"
  },
  "language_info": {
   "codemirror_mode": {
    "name": "ipython",
    "version": 3
   },
   "file_extension": ".py",
   "mimetype": "text/x-python",
   "name": "python",
   "nbconvert_exporter": "python",
   "pygments_lexer": "ipython3",
   "version": "3.6.1"
  }
 },
 "nbformat": 4,
 "nbformat_minor": 2
}
