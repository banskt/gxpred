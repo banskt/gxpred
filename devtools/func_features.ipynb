{
 "cells": [
  {
   "cell_type": "code",
   "execution_count": 33,
   "metadata": {},
   "outputs": [],
   "source": [
    "import numpy as np\n",
    "\n",
    "feat = np.random.rand(40).reshape(10, 4)"
   ]
  },
  {
   "cell_type": "code",
   "execution_count": 34,
   "metadata": {},
   "outputs": [
    {
     "data": {
      "text/plain": [
       "array([[ 0.47831784,  0.09630138,  0.89760462,  0.37473957],\n",
       "       [ 0.04374649,  0.57611062,  0.48120304,  0.21622184],\n",
       "       [ 0.1030869 ,  0.90786672,  0.23982911,  0.35486645],\n",
       "       [ 0.30399978,  0.97268247,  0.41514109,  0.50011403],\n",
       "       [ 0.69377892,  0.56136285,  0.98316322,  0.1382904 ],\n",
       "       [ 0.90792308,  0.87518703,  0.91146748,  0.00628347],\n",
       "       [ 0.52119126,  0.82676211,  0.44795639,  0.95553098],\n",
       "       [ 0.88803107,  0.03726322,  0.99900393,  0.99359272],\n",
       "       [ 0.56663048,  0.85726734,  0.02417505,  0.29738872],\n",
       "       [ 0.456502  ,  0.02111801,  0.30954733,  0.22668775]])"
      ]
     },
     "execution_count": 34,
     "metadata": {},
     "output_type": "execute_result"
    }
   ],
   "source": [
    "feat"
   ]
  },
  {
   "cell_type": "code",
   "execution_count": 35,
   "metadata": {},
   "outputs": [
    {
     "data": {
      "text/plain": [
       "array([ 0.47831784,  0.09630138,  0.89760462,  0.37473957,  0.04374649,\n",
       "        0.57611062,  0.48120304,  0.21622184,  0.1030869 ,  0.90786672,\n",
       "        0.23982911,  0.35486645,  0.30399978,  0.97268247,  0.41514109,\n",
       "        0.50011403,  0.69377892,  0.56136285,  0.98316322,  0.1382904 ,\n",
       "        0.90792308,  0.87518703,  0.91146748,  0.00628347,  0.52119126,\n",
       "        0.82676211,  0.44795639,  0.95553098,  0.88803107,  0.03726322,\n",
       "        0.99900393,  0.99359272,  0.56663048,  0.85726734,  0.02417505,\n",
       "        0.29738872,  0.456502  ,  0.02111801,  0.30954733,  0.22668775])"
      ]
     },
     "execution_count": 35,
     "metadata": {},
     "output_type": "execute_result"
    }
   ],
   "source": [
    "featflat = feat.reshape(-1,)\n",
    "featflat"
   ]
  },
  {
   "cell_type": "code",
   "execution_count": 42,
   "metadata": {},
   "outputs": [
    {
     "data": {
      "text/plain": [
       "0.0211180103697578"
      ]
     },
     "execution_count": 42,
     "metadata": {},
     "output_type": "execute_result"
    }
   ],
   "source": [
    "k = 1\n",
    "i = 9\n",
    "nsnps = feat.shape[0]\n",
    "nfeat = feat.shape[1]\n",
    "\n",
    "feat[ i, k ]"
   ]
  },
  {
   "cell_type": "code",
   "execution_count": 43,
   "metadata": {},
   "outputs": [
    {
     "data": {
      "text/plain": [
       "0.0211180103697578"
      ]
     },
     "execution_count": 43,
     "metadata": {},
     "output_type": "execute_result"
    }
   ],
   "source": [
    "featflat[ i * nfeat + k ]"
   ]
  },
  {
   "cell_type": "code",
   "execution_count": 16,
   "metadata": {},
   "outputs": [
    {
     "data": {
      "text/plain": [
       "(10, 4)"
      ]
     },
     "execution_count": 16,
     "metadata": {},
     "output_type": "execute_result"
    }
   ],
   "source": [
    "feat.shape"
   ]
  },
  {
   "cell_type": "code",
   "execution_count": 44,
   "metadata": {
    "collapsed": true
   },
   "outputs": [],
   "source": [
    "params = np.array([-4.0, -2.5, 0, 0.01, 0.001, 0.1])"
   ]
  },
  {
   "cell_type": "code",
   "execution_count": 47,
   "metadata": {},
   "outputs": [],
   "source": [
    "nhyp = params.shape[0]\n",
    "scaledparams[ :()]\n",
    "gammas = params [ :(nhyp - 4) ]\n",
    "#beta_pi = - np.log((1 / params[0]) - 1)\n",
    "beta_mu = 100 * params[ nhyp - 4 ]\n",
    "beta_sigma = np.log(params[ nhyp - 3 ])\n",
    "beta_sigmabg = np.log(params[ nhyp - 2 ])\n",
    "beta_tau = - 0.5 * np.log(params[ nhyp - 1])\n",
    "scaledparams = np.array( list(gammas) + [beta_mu, beta_sigma, beta_sigmabg, beta_tau])"
   ]
  },
  {
   "cell_type": "code",
   "execution_count": 49,
   "metadata": {},
   "outputs": [
    {
     "data": {
      "text/plain": [
       "array([-4.        , -2.5       ,  0.        , -4.60517019, -6.90775528,\n",
       "        1.15129255])"
      ]
     },
     "execution_count": 49,
     "metadata": {},
     "output_type": "execute_result"
    }
   ],
   "source": [
    "scaledparams"
   ]
  },
  {
   "cell_type": "code",
   "execution_count": 53,
   "metadata": {},
   "outputs": [
    {
     "data": {
      "text/plain": [
       "array([-4. , -2.5,  0. ])"
      ]
     },
     "execution_count": 53,
     "metadata": {},
     "output_type": "execute_result"
    }
   ],
   "source": [
    "np.append(gammas, np.array(beta_mu))"
   ]
  },
  {
   "cell_type": "code",
   "execution_count": 55,
   "metadata": {},
   "outputs": [
    {
     "data": {
      "text/plain": [
       "(10, 1)"
      ]
     },
     "execution_count": 55,
     "metadata": {},
     "output_type": "execute_result"
    }
   ],
   "source": [
    "np.ones((10,1)).shape"
   ]
  },
  {
   "cell_type": "code",
   "execution_count": null,
   "metadata": {
    "collapsed": true
   },
   "outputs": [],
   "source": []
  }
 ],
 "metadata": {
  "kernelspec": {
   "display_name": "Python 3",
   "language": "python",
   "name": "python3"
  },
  "language_info": {
   "codemirror_mode": {
    "name": "ipython",
    "version": 3
   },
   "file_extension": ".py",
   "mimetype": "text/x-python",
   "name": "python",
   "nbconvert_exporter": "python",
   "pygments_lexer": "ipython3",
   "version": "3.6.1"
  }
 },
 "nbformat": 4,
 "nbformat_minor": 2
}
