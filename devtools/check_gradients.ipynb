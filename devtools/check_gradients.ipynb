{
 "cells": [
  {
   "cell_type": "code",
   "execution_count": 29,
   "metadata": {},
   "outputs": [
    {
     "name": "stdout",
     "output_type": "stream",
     "text": [
      "The autoreload extension is already loaded. To reload it, use:\n",
      "  %reload_ext autoreload\n"
     ]
    }
   ],
   "source": [
    "%load_ext autoreload\n",
    "%autoreload 2\n",
    "\n",
    "import sys\n",
    "sys.path.append(\"../\")\n",
    "\n",
    "import numpy as np\n",
    "import time\n",
    "from utils import model\n",
    "from inference import log_marginal_likelihood\n",
    "from inference import logmarglik\n",
    "from inference import zstates as zs\n",
    "from inference import zstates_old_method as zs_old\n",
    "from utils import hyperparameters\n",
    "\n",
    "nsample = 300\n",
    "nsnps = 100\n",
    "pi = 0.1\n",
    "mu = 0.0\n",
    "sigmabg = 0.001\n",
    "sigma = 0.3\n",
    "tau = 1 / (0.005 * 0.005)\n",
    "prior = \"gxpred-bslmm\"\n",
    "\n",
    "x, y, csnps, v = model.simulate(nsample, nsnps,\n",
    "                                pi = pi,\n",
    "                                mu = mu,\n",
    "                                sigma = sigma,\n",
    "                                sigmabg = sigmabg,\n",
    "                                tau = tau)\n",
    "\n",
    "nvar = x.shape[0]\n",
    "nsample = x.shape[1]\n",
    "params = np.array([pi, mu, sigma, sigmabg, tau])\n",
    "scaledparams = hyperparameters.scale(params)\n",
    "cmax = 1\n",
    "#zstates_new = zs.create(scaledparams, x, y, cmax, nvar, 0.98)\n",
    "zstates_old = zs_old.create(scaledparams, x, y, cmax, nvar, 0.98)\n",
    "zstates_new = zstates_old"
   ]
  },
  {
   "cell_type": "code",
   "execution_count": 23,
   "metadata": {},
   "outputs": [
    {
     "name": "stdout",
     "output_type": "stream",
     "text": [
      "Log marginal likelihood from full calculation: -1355.547691\n",
      "Calculated in 1.003454 seconds ---\n",
      "\n",
      "Log marginal likelihood from fast calculation: -1355.547331\n",
      "Calculated in 0.121942 seconds ---\n",
      "\n",
      "Log marginal likelihood using old method of zstates: -1355.547331\n",
      "Calculated in 0.124651 seconds ---\n",
      "\n"
     ]
    }
   ],
   "source": [
    "params = np.array([0.00495222, 0, 0.48975, 0.0680367, 1 / 0.00001 / 0.00001])\n",
    "scaledparams = hyperparameters.scale(params)\n",
    "\n",
    "start_time = time.time()\n",
    "l, m = log_marginal_likelihood.full(scaledparams, x, y, zstates_old)\n",
    "print (\"Log marginal likelihood from full calculation: {:f}\".format(m))\n",
    "print(\"Calculated in {:f} seconds ---\\n\".format(time.time() - start_time))\n",
    "\n",
    "start_time = time.time()\n",
    "m = log_marginal_likelihood.func(scaledparams, x, y, zstates_old)\n",
    "print (\"Log marginal likelihood from fast calculation: {:f}\".format(m))\n",
    "print(\"Calculated in {:f} seconds ---\\n\".format(time.time() - start_time))\n",
    "\n",
    "start_time = time.time()\n",
    "m = log_marginal_likelihood.func(scaledparams, x, y, zstates_old)\n",
    "print (\"Log marginal likelihood using old method of zstates: {:f}\".format(m))\n",
    "print(\"Calculated in {:f} seconds ---\\n\".format(time.time() - start_time))"
   ]
  },
  {
   "cell_type": "code",
   "execution_count": null,
   "metadata": {},
   "outputs": [],
   "source": [
    "zstates = zstates_new\n",
    "#params = np.array([0.01, 0.1, 0.0003, 1.0, 1 / 0.5 / 0.5])\n",
    "params = np.array([0.00495222, 0, 0.48975, 0.0680367, 1 / 0.0001 / 0.0001])\n",
    "scaledparams = hyperparameters.scale(params)\n",
    "m, der = log_marginal_likelihood.func_grad(scaledparams, x, y, zstates)\n",
    "\n",
    "# Derivative of pi\n",
    "delta = 0.00001\n",
    "newparams = hyperparameters.scale(params)\n",
    "newparams[0] += delta\n",
    "newm = log_marginal_likelihood.func(newparams, x, y, zstates)\n",
    "pi_grad = (newm - m) / delta\n",
    "print (\"Derivative of pi by brute force is {:f}\".format(pi_grad))\n",
    "print (\"Derivative of pi from equation is {:f}\".format(der[0]))\n",
    "\n",
    "# Derivative of mu\n",
    "delta = 0.001\n",
    "newparams = hyperparameters.scale(params)\n",
    "newparams[1] += delta\n",
    "newm = log_marginal_likelihood.func(newparams, x, y, zstates)\n",
    "mu_grad = (newm - m) / delta\n",
    "print (\"Derivative of mu by brute force is {:f}\".format(mu_grad))\n",
    "print (\"Derivative of mu from equation is {:f}\".format(der[1]))\n",
    "\n",
    "# Derivative of sigma\n",
    "delta = 0.0001\n",
    "newparams = hyperparameters.scale(params)\n",
    "newparams[2] += delta\n",
    "newm = log_marginal_likelihood.func(newparams, x, y, zstates)\n",
    "sigma_grad = (newm - m) / delta\n",
    "print (\"Derivative of sigma by brute force is {:f}\".format(sigma_grad))\n",
    "print (\"Derivative of sigma from equation is {:f}\".format(der[2]))\n",
    "\n",
    "# Derivative of sigbg\n",
    "delta = 0.0001\n",
    "newparams = hyperparameters.scale(params)\n",
    "newparams[3] += delta\n",
    "newm = log_marginal_likelihood.func(newparams, x, y, zstates)\n",
    "sigbg_grad = (newm - m) / delta\n",
    "print (\"Derivative of sigbg by brute force is {:f}\".format(sigbg_grad))\n",
    "print (\"Derivative of sigbg from equation is {:f}\".format(der[3]))\n",
    "\n",
    "# Derivative of tau\n",
    "delta = 0.0001\n",
    "newparams = hyperparameters.scale(params)\n",
    "newparams[4] += delta\n",
    "newm = log_marginal_likelihood.func(newparams, x, y, zstates)\n",
    "tau_grad = (newm - m) / delta\n",
    "print (\"Derivative of tau by brute force is {:f}\".format(tau_grad))\n",
    "print (\"Derivative of tau from equation is {:f}\".format(der[4]))"
   ]
  },
  {
   "cell_type": "code",
   "execution_count": 40,
   "metadata": {},
   "outputs": [],
   "source": [
    "hyperpriors = [None, \"L1\", None, \"L1\", None]\n",
    "hyperparams = {\"lambda\":0.01}"
   ]
  },
  {
   "cell_type": "code",
   "execution_count": 41,
   "metadata": {},
   "outputs": [
    {
     "name": "stdout",
     "output_type": "stream",
     "text": [
      "[-5.3029548   0.         -0.71386022 -0.51082562 -9.21034037]\n",
      "Derivative of pi by brute force is 0.220537\n",
      "Derivative of pi from equation is 0.220503\n",
      "Derivative of mu by brute force is 0.009943\n",
      "Derivative of mu from equation is -0.000060\n",
      "Derivative of sigma by brute force is 0.598729\n",
      "Derivative of sigma from equation is 0.599063\n",
      "Derivative of sigbg by brute force is 97.304285\n",
      "Derivative of sigbg from equation is 97.345633\n",
      "Derivative of tau by brute force is -199979814.267457\n",
      "Derivative of tau from equation is -199999813.421095\n"
     ]
    }
   ],
   "source": [
    "zstates = zstates_new\n",
    "#params = np.array([0.01, 0.1, 0.0003, 1.0, 1 / 0.5 / 0.5])\n",
    "params = np.array([0.00495222, 0, 0.48975, 0.6, 1 / 0.0001 / 0.0001])\n",
    "scaledparams = hyperparameters.scale(params)\n",
    "print(scaledparams)\n",
    "success, m, der = logmarglik.func_grad(scaledparams, x, y, zstates, prior, hyperpriors, hyperparams)\n",
    "\n",
    "# Derivative of pi\n",
    "delta = 0.00001\n",
    "newparams = hyperparameters.scale(params)\n",
    "newparams[0] += delta\n",
    "newm = logmarglik.func(newparams, x, y, zstates, prior, hyperpriors, hyperparams)\n",
    "pi_grad = (newm - m) / delta\n",
    "print (\"Derivative of pi by brute force is {:f}\".format(pi_grad))\n",
    "print (\"Derivative of pi from equation is {:f}\".format(der[0]))\n",
    "\n",
    "# Derivative of mu\n",
    "delta = 0.1\n",
    "newparams = hyperparameters.scale(params)\n",
    "newparams[1] += delta\n",
    "newm = logmarglik.func(newparams, x, y, zstates, prior, hyperpriors, hyperparams)\n",
    "mu_grad = (newm - m) / delta\n",
    "print (\"Derivative of mu by brute force is {:f}\".format(mu_grad))\n",
    "print (\"Derivative of mu from equation is {:f}\".format(der[1]))\n",
    "\n",
    "# Derivative of sigma\n",
    "delta = 0.0001\n",
    "newparams = hyperparameters.scale(params)\n",
    "newparams[2] += delta\n",
    "newm = logmarglik.func(newparams, x, y, zstates, prior, hyperpriors, hyperparams)\n",
    "sigma_grad = (newm - m) / delta\n",
    "print (\"Derivative of sigma by brute force is {:f}\".format(sigma_grad))\n",
    "print (\"Derivative of sigma from equation is {:f}\".format(der[2]))\n",
    "\n",
    "# Derivative of sigbg\n",
    "delta = 0.0001\n",
    "newparams = hyperparameters.scale(params)\n",
    "newparams[3] += delta\n",
    "newm = logmarglik.func(newparams, x, y, zstates, prior, hyperpriors, hyperparams)\n",
    "sigbg_grad = (newm - m) / delta\n",
    "print (\"Derivative of sigbg by brute force is {:f}\".format(sigbg_grad))\n",
    "print (\"Derivative of sigbg from equation is {:f}\".format(der[3]))\n",
    "\n",
    "# Derivative of tau\n",
    "delta = 0.0001\n",
    "newparams = hyperparameters.scale(params)\n",
    "newparams[4] += delta\n",
    "newm = logmarglik.func(newparams, x, y, zstates, prior, hyperpriors, hyperparams)\n",
    "tau_grad = (newm - m) / delta\n",
    "print (\"Derivative of tau by brute force is {:f}\".format(tau_grad))\n",
    "print (\"Derivative of tau from equation is {:f}\".format(der[4]))"
   ]
  },
  {
   "cell_type": "code",
   "execution_count": null,
   "metadata": {},
   "outputs": [],
   "source": [
    "der"
   ]
  },
  {
   "cell_type": "code",
   "execution_count": null,
   "metadata": {},
   "outputs": [],
   "source": [
    "mu_grad"
   ]
  },
  {
   "cell_type": "code",
   "execution_count": null,
   "metadata": {},
   "outputs": [],
   "source": []
  }
 ],
 "metadata": {
  "kernelspec": {
   "display_name": "Python 3",
   "language": "python",
   "name": "python3"
  },
  "language_info": {
   "codemirror_mode": {
    "name": "ipython",
    "version": 3
   },
   "file_extension": ".py",
   "mimetype": "text/x-python",
   "name": "python",
   "nbconvert_exporter": "python",
   "pygments_lexer": "ipython3",
   "version": "3.6.4"
  }
 },
 "nbformat": 4,
 "nbformat_minor": 2
}
