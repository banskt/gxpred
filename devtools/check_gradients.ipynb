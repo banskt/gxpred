{
 "cells": [
  {
   "cell_type": "code",
   "execution_count": 2,
   "metadata": {},
   "outputs": [],
   "source": [
    "import sys\n",
    "sys.path.append(\"../\")\n",
    "\n",
    "import numpy as np\n",
    "import time\n",
    "from utils import model\n",
    "from inference import log_marginal_likelihood\n",
    "from inference import logmarglik\n",
    "from inference import zstates as zs\n",
    "from inference import zstates_old_method as zs_old\n",
    "from utils import hyperparameters\n",
    "\n",
    "nsample = 300\n",
    "nsnps = 100\n",
    "pi = 0.1\n",
    "mu = 0.0\n",
    "sigmabg = 0.001\n",
    "sigma = 0.3\n",
    "tau = 1 / (0.005 * 0.005)\n",
    "\n",
    "x, y, csnps, v = model.simulate(nsample, nsnps,\n",
    "                                pi = pi,\n",
    "                                mu = mu,\n",
    "                                sigma = sigma,\n",
    "                                sigmabg = sigmabg,\n",
    "                                tau = tau)\n",
    "\n",
    "nvar = x.shape[0]\n",
    "nsample = x.shape[1]\n",
    "features = np.ones((nvar, 1))\n",
    "nfeat = features.shape[1]\n",
    "\n",
    "gamma0 = - np.log((1 / pi) - 1)\n",
    "params = np.array([gamma0, mu, sigma, sigmabg, tau])\n",
    "scaledparams = hyperparameters.scale(params)\n",
    "cmax = 1\n",
    "#zstates_new = zs.create(scaledparams, x, y, cmax, nvar, 0.98)\n",
    "zstates_old = zs_old.create(scaledparams, x, y, features, cmax, nvar, 0.98)\n",
    "zstates_new = zstates_old"
   ]
  },
  {
   "cell_type": "code",
   "execution_count": null,
   "metadata": {
    "collapsed": true
   },
   "outputs": [],
   "source": [
    "params = np.array([0.00495222, 0, 0.48975, 0.0680367, 1 / 0.00001 / 0.00001])\n",
    "scaledparams = hyperparameters.scale(params)\n",
    "\n",
    "start_time = time.time()\n",
    "l, m = log_marginal_likelihood.full(scaledparams, x, y, zstates_old)\n",
    "print (\"Log marginal likelihood from full calculation: {:f}\".format(m))\n",
    "print(\"Calculated in {:f} seconds ---\\n\".format(time.time() - start_time))\n",
    "\n",
    "start_time = time.time()\n",
    "m = log_marginal_likelihood.func(scaledparams, x, y, zstates_old)\n",
    "print (\"Log marginal likelihood from fast calculation: {:f}\".format(m))\n",
    "print(\"Calculated in {:f} seconds ---\\n\".format(time.time() - start_time))\n",
    "\n",
    "start_time = time.time()\n",
    "m = log_marginal_likelihood.func(scaledparams, x, y, zstates_old)\n",
    "print (\"Log marginal likelihood using old method of zstates: {:f}\".format(m))\n",
    "print(\"Calculated in {:f} seconds ---\\n\".format(time.time() - start_time))"
   ]
  },
  {
   "cell_type": "code",
   "execution_count": null,
   "metadata": {
    "collapsed": true
   },
   "outputs": [],
   "source": [
    "zstates = zstates_new\n",
    "#params = np.array([0.01, 0.1, 0.0003, 1.0, 1 / 0.5 / 0.5])\n",
    "params = np.array([0.00495222, 0, 0.48975, 0.0680367, 1 / 0.0001 / 0.0001])\n",
    "scaledparams = hyperparameters.scale(params)\n",
    "m, der = log_marginal_likelihood.func_grad(scaledparams, x, y, zstates)\n",
    "\n",
    "# Derivative of pi\n",
    "delta = 0.00001\n",
    "newparams = hyperparameters.scale(params)\n",
    "newparams[0] += delta\n",
    "newm = log_marginal_likelihood.func(newparams, x, y, zstates)\n",
    "pi_grad = (newm - m) / delta\n",
    "print (\"Derivative of pi by brute force is {:f}\".format(pi_grad))\n",
    "print (\"Derivative of pi from equation is {:f}\".format(der[0]))\n",
    "\n",
    "# Derivative of mu\n",
    "delta = 0.001\n",
    "newparams = hyperparameters.scale(params)\n",
    "newparams[1] += delta\n",
    "newm = log_marginal_likelihood.func(newparams, x, y, zstates)\n",
    "mu_grad = (newm - m) / delta\n",
    "print (\"Derivative of mu by brute force is {:f}\".format(mu_grad))\n",
    "print (\"Derivative of mu from equation is {:f}\".format(der[1]))\n",
    "\n",
    "# Derivative of sigma\n",
    "delta = 0.0001\n",
    "newparams = hyperparameters.scale(params)\n",
    "newparams[2] += delta\n",
    "newm = log_marginal_likelihood.func(newparams, x, y, zstates)\n",
    "sigma_grad = (newm - m) / delta\n",
    "print (\"Derivative of sigma by brute force is {:f}\".format(sigma_grad))\n",
    "print (\"Derivative of sigma from equation is {:f}\".format(der[2]))\n",
    "\n",
    "# Derivative of sigbg\n",
    "delta = 0.0001\n",
    "newparams = hyperparameters.scale(params)\n",
    "newparams[3] += delta\n",
    "newm = log_marginal_likelihood.func(newparams, x, y, zstates)\n",
    "sigbg_grad = (newm - m) / delta\n",
    "print (\"Derivative of sigbg by brute force is {:f}\".format(sigbg_grad))\n",
    "print (\"Derivative of sigbg from equation is {:f}\".format(der[3]))\n",
    "\n",
    "# Derivative of tau\n",
    "delta = 0.0001\n",
    "newparams = hyperparameters.scale(params)\n",
    "newparams[4] += delta\n",
    "newm = log_marginal_likelihood.func(newparams, x, y, zstates)\n",
    "tau_grad = (newm - m) / delta\n",
    "print (\"Derivative of tau by brute force is {:f}\".format(tau_grad))\n",
    "print (\"Derivative of tau from equation is {:f}\".format(der[4]))"
   ]
  },
  {
   "cell_type": "code",
   "execution_count": 6,
   "metadata": {},
   "outputs": [
    {
     "name": "stdout",
     "output_type": "stream",
     "text": [
      "4.0\n",
      "4.00001\n",
      "Derivative of gamma by brute force is 97.201388\n",
      "Derivative of gamma from equation is 97.201379\n",
      "4.0\n",
      "Derivative of mu by brute force is -0.017398\n",
      "Derivative of mu from equation is -0.017420\n",
      "4.0\n",
      "Derivative of sigma by brute force is 0.251374\n",
      "Derivative of sigma from equation is 0.253192\n",
      "4.0\n",
      "Derivative of sigbg by brute force is 69.221072\n",
      "Derivative of sigbg from equation is 69.190720\n",
      "4.0\n",
      "Derivative of tau by brute force is 188.128924\n",
      "Derivative of tau from equation is 188.076868\n"
     ]
    }
   ],
   "source": [
    "zstates = zstates_new\n",
    "#params = np.array([0.01, 0.1, 0.0003, 1.0, 1 / 0.5 / 0.5])\n",
    "params = np.array([4, 0, 0.48975, 0.0680367, 1 / 0.0001 / 0.0001])\n",
    "scaledparams = hyperparameters.scale(params)\n",
    "success, m, der = logmarglik.func_grad(scaledparams, x, y, features, zstates)\n",
    "\n",
    "# Derivative of gamma\n",
    "delta = 0.00001\n",
    "newparams = hyperparameters.scale(params)\n",
    "newparams[0] += delta\n",
    "newm = logmarglik.func(newparams, x, y, features, zstates)\n",
    "gamma_grad = (newm - m) / delta\n",
    "print (\"Derivative of gamma by brute force is {:f}\".format(gamma_grad))\n",
    "print (\"Derivative of gamma from equation is {:f}\".format(der[0]))\n",
    "\n",
    "# Derivative of mu\n",
    "delta = 0.1\n",
    "newparams = hyperparameters.scale(params)\n",
    "newparams[1] += delta\n",
    "newm = logmarglik.func(newparams, x, y, features, zstates)\n",
    "mu_grad = (newm - m) / delta\n",
    "print (\"Derivative of mu by brute force is {:f}\".format(mu_grad))\n",
    "print (\"Derivative of mu from equation is {:f}\".format(der[1]))\n",
    "\n",
    "# Derivative of sigma\n",
    "delta = 0.0001\n",
    "newparams = hyperparameters.scale(params)\n",
    "newparams[2] += delta\n",
    "newm = logmarglik.func(newparams, x, y, features, zstates)\n",
    "sigma_grad = (newm - m) / delta\n",
    "print (\"Derivative of sigma by brute force is {:f}\".format(sigma_grad))\n",
    "print (\"Derivative of sigma from equation is {:f}\".format(der[2]))\n",
    "\n",
    "# Derivative of sigbg\n",
    "delta = 0.0001\n",
    "newparams = hyperparameters.scale(params)\n",
    "newparams[3] += delta\n",
    "newm = logmarglik.func(newparams, x, y, features, zstates)\n",
    "sigbg_grad = (newm - m) / delta\n",
    "print (\"Derivative of sigbg by brute force is {:f}\".format(sigbg_grad))\n",
    "print (\"Derivative of sigbg from equation is {:f}\".format(der[3]))\n",
    "\n",
    "# Derivative of tau\n",
    "delta = 0.0001\n",
    "newparams = hyperparameters.scale(params)\n",
    "newparams[4] += delta\n",
    "newm = logmarglik.func(newparams, x, y, features, zstates)\n",
    "tau_grad = (newm - m) / delta\n",
    "print (\"Derivative of tau by brute force is {:f}\".format(tau_grad))\n",
    "print (\"Derivative of tau from equation is {:f}\".format(der[4]))"
   ]
  },
  {
   "cell_type": "code",
   "execution_count": 6,
   "metadata": {},
   "outputs": [
    {
     "data": {
      "text/plain": [
       "array([ -5.04777761e-01,   1.85848003e-02,   1.52570810e-01,\n",
       "         9.17508141e+00,   1.85556049e+02])"
      ]
     },
     "execution_count": 6,
     "metadata": {},
     "output_type": "execute_result"
    }
   ],
   "source": [
    "der"
   ]
  },
  {
   "cell_type": "code",
   "execution_count": null,
   "metadata": {
    "collapsed": true
   },
   "outputs": [],
   "source": [
    "mu_grad"
   ]
  },
  {
   "cell_type": "code",
   "execution_count": null,
   "metadata": {
    "collapsed": true
   },
   "outputs": [],
   "source": []
  }
 ],
 "metadata": {
  "kernelspec": {
   "display_name": "Python 3",
   "language": "python",
   "name": "python3"
  },
  "language_info": {
   "codemirror_mode": {
    "name": "ipython",
    "version": 3
   },
   "file_extension": ".py",
   "mimetype": "text/x-python",
   "name": "python",
   "nbconvert_exporter": "python",
   "pygments_lexer": "ipython3",
   "version": "3.6.1"
  }
 },
 "nbformat": 4,
 "nbformat_minor": 2
}
