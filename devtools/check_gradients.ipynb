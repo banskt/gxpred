{
 "cells": [
  {
   "cell_type": "code",
   "execution_count": 1,
   "metadata": {
    "collapsed": true
   },
   "outputs": [],
   "source": [
    "%reload_ext autoreload\n",
    "%autoreload 2\n",
    "# %load_ext wurlitzer\n",
    "\n",
    "import sys\n",
    "sys.path.append(\"../\")\n",
    "\n",
    "import numpy as np\n",
    "import time\n",
    "from utils import model\n",
    "from inference import log_marginal_likelihood\n",
    "from inference import logmarglik\n",
    "from inference import zstates as zs\n",
    "from inference import zstates_old_method as zs_old\n",
    "from utils import hyperparameters\n",
    "from iotools import snp_annotator"
   ]
  },
  {
   "cell_type": "code",
   "execution_count": 2,
   "metadata": {},
   "outputs": [
    {
     "data": {
      "image/png": "[encoded data removed]",
      "text/plain": [
       "<matplotlib.figure.Figure at 0x7ff71fe8d208>"
      ]
     },
     "metadata": {},
     "output_type": "display_data"
    },
    {
     "name": "stdout",
     "output_type": "stream",
     "text": [
      "Creating phenotype with sigma 0.2, heritability 0.81284, sigma_tau 0.43262\n",
      "Using 14 causal SNPs\n"
     ]
    }
   ],
   "source": [
    "nsample = 300\n",
    "nsnps = 100\n",
    "pi = 0.05\n",
    "mu = 0.0\n",
    "sigmabg = 0.0\n",
    "sigma = 0.2\n",
    "\n",
    "# No feature\n",
    "features = np.ones((nsnps, 1))\n",
    "\n",
    "# Add a random feature\n",
    "myfeat = np.zeros((nsnps, 1))\n",
    "myfeat[np.random.permutation(np.arange(nsnps))[:int(nsnps / 4)]] = 1\n",
    "#features = np.concatenate((features, myfeat), axis=1)\n",
    "\n",
    "# Add distance feature\n",
    "dist = np.linspace(-40000, 40000, nsnps)\n",
    "distfeat = snp_annotator.myTcurve(dist)\n",
    "distfeat = 1 / distfeat\n",
    "\n",
    "# Create gamma\n",
    "gamma = np.zeros(features.shape[1])\n",
    "gamma[0] = - np.log((1 / pi) - 1)\n",
    "enrich = 2\n",
    "gval = np.log(enrich) - np.log(1 + (1 - enrich) * np.exp(gamma[0]))\n",
    "gamma[1:] = np.repeat(gval, features.shape[1] - 1)\n",
    "\n",
    "x, y, csnps, v = model.simulate(nsample, nsnps, \n",
    "                                features, 1 / distfeat, gamma,\n",
    "                                mu = mu,\n",
    "                                sigma = sigma,\n",
    "                                sigmabg = sigmabg,)"
   ]
  },
  {
   "cell_type": "code",
   "execution_count": 3,
   "metadata": {
    "collapsed": true
   },
   "outputs": [],
   "source": [
    "tau = 1 / (1 - np.sum(np.square(v[csnps])))\n",
    "params = np.append(gamma, [mu, sigma, sigmabg, tau])\n",
    "scaledparams = hyperparameters.scale(params)"
   ]
  },
  {
   "cell_type": "code",
   "execution_count": 4,
   "metadata": {},
   "outputs": [],
   "source": [
    "cmax = 1\n",
    "zstates_new = zs.create(scaledparams, x, y, features, distfeat, cmax, nsnps, 0.98)\n",
    "# zstates_old = zs_old.create(scaledparams, x, y, features, cmax, nvar, 0.98)\n",
    "# zstates_new = zstates_old"
   ]
  },
  {
   "cell_type": "code",
   "execution_count": 5,
   "metadata": {
    "scrolled": false
   },
   "outputs": [
    {
     "name": "stdout",
     "output_type": "stream",
     "text": [
      "Derivative of gamma 0 by brute force is 0.692137\n",
      "Derivative of gamma 0 from equation is 0.692146\n",
      "Derivative of mu by brute force is -0.122520\n",
      "Derivative of mu from equation is -0.122507\n",
      "Derivative of sigma by brute force is -4.957970\n",
      "Derivative of sigma from equation is -5.016194\n",
      "Derivative of sigbg by brute force is 0.000000\n",
      "Derivative of sigbg from equation is -0.000000\n",
      "Derivative of tau by brute force is -1278.553043\n",
      "Derivative of tau from equation is -1278.553005\n"
     ]
    }
   ],
   "source": [
    "zstates = zstates_new\n",
    "scaledparams = hyperparameters.scale(params)\n",
    "success, m, der = logmarglik.func_grad(scaledparams, x, y, features, distfeat, zstates)\n",
    "nfeat = features.shape[1]\n",
    "\n",
    "# Derivatives of gamma\n",
    "for i in range(0, nfeat):\n",
    "    delta = 1e-8\n",
    "    newparams = hyperparameters.scale(params)\n",
    "    newparams[i] += delta\n",
    "    newm = logmarglik.func(newparams, x, y, features, distfeat, zstates)\n",
    "    gamma_grad = (newm - m) / delta\n",
    "    print (\"Derivative of gamma {:d} by brute force is {:f}\".format(i, gamma_grad))\n",
    "    print (\"Derivative of gamma {:d} from equation is {:f}\".format(i, der[i]))\n",
    "\n",
    "# Derivative of mu\n",
    "delta = 1e-8\n",
    "newparams = hyperparameters.scale(params)\n",
    "newparams[nfeat + 0] += delta\n",
    "newm = logmarglik.func(newparams, x, y, features, distfeat, zstates)\n",
    "mu_grad = (newm - m) / delta\n",
    "print (\"Derivative of mu by brute force is {:f}\".format(mu_grad))\n",
    "print (\"Derivative of mu from equation is {:f}\".format(der[nfeat + 0]))\n",
    "\n",
    "# Derivative of sigma\n",
    "delta = 0.01\n",
    "newparams = hyperparameters.scale(params)\n",
    "newparams[nfeat + 1] += delta\n",
    "newm = logmarglik.func(newparams, x, y, features, distfeat, zstates)\n",
    "sigma_grad = (newm - m) / delta\n",
    "print (\"Derivative of sigma by brute force is {:f}\".format(sigma_grad))\n",
    "print (\"Derivative of sigma from equation is {:f}\".format(der[nfeat + 1]))\n",
    "\n",
    "# Derivative of sigbg\n",
    "delta = 1e-7\n",
    "newparams = hyperparameters.scale(params)\n",
    "newparams[nfeat + 2] += delta\n",
    "newm = logmarglik.func(newparams, x, y, features, distfeat, zstates)\n",
    "sigbg_grad = (newm - m) / delta\n",
    "print (\"Derivative of sigbg by brute force is {:f}\".format(sigbg_grad))\n",
    "print (\"Derivative of sigbg from equation is {:f}\".format(der[nfeat + 2]))\n",
    "\n",
    "# Derivative of tau\n",
    "delta = 1e-8\n",
    "newparams = hyperparameters.scale(params)\n",
    "newparams[nfeat + 3] += delta\n",
    "newm = logmarglik.func(newparams, x, y, features, distfeat, zstates)\n",
    "tau_grad = (newm - m) / delta\n",
    "print (\"Derivative of tau by brute force is {:f}\".format(tau_grad))\n",
    "print (\"Derivative of tau from equation is {:f}\".format(der[nfeat + 3]))"
   ]
  },
  {
   "cell_type": "code",
   "execution_count": null,
   "metadata": {
    "collapsed": true
   },
   "outputs": [],
   "source": []
  }
 ],
 "metadata": {
  "kernelspec": {
   "display_name": "Python 3",
   "language": "python",
   "name": "python3"
  },
  "language_info": {
   "codemirror_mode": {
    "name": "ipython",
    "version": 3
   },
   "file_extension": ".py",
   "mimetype": "text/x-python",
   "name": "python",
   "nbconvert_exporter": "python",
   "pygments_lexer": "ipython3",
   "version": "3.6.1"
  }
 },
 "nbformat": 4,
 "nbformat_minor": 2
}
