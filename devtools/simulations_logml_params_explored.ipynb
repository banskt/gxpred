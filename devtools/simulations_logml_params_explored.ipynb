{
 "cells": [
  {
   "cell_type": "code",
   "execution_count": 26,
   "metadata": {},
   "outputs": [
    {
     "name": "stdout",
     "output_type": "stream",
     "text": [
      "The autoreload extension is already loaded. To reload it, use:\n",
      "  %reload_ext autoreload\n",
      "2018-07-16 13:59:44,931 | iotools.readOxford | INFO | Reading genotype\n",
      "2018-07-16 13:59:44,931 | iotools.readOxford | INFO | Reading genotype\n",
      "2018-07-16 13:59:46,207 | iotools.readOxford | INFO | Read 10001 snps from 450 samples.\n",
      "2018-07-16 13:59:46,207 | iotools.readOxford | INFO | Read 10001 snps from 450 samples.\n",
      "2018-07-16 13:59:46,209 | iotools.readOxford | INFO | Finished reading genotype\n",
      "2018-07-16 13:59:46,209 | iotools.readOxford | INFO | Finished reading genotype\n"
     ]
    }
   ],
   "source": [
    "%load_ext autoreload\n",
    "%autoreload 2\n",
    "\n",
    "import sys, os\n",
    "sys.path.append(\"../\")\n",
    "from iotools.readOxford import ReadOxford\n",
    "from iotools.readrpkm import ReadRPKM\n",
    "from utils import mfunc\n",
    "from utils import gtutils\n",
    "from inference.linreg_association import LinRegAssociation\n",
    "import numpy as np\n",
    "from utils.containers import GeneInfo\n",
    "from sklearn.preprocessing import scale\n",
    "\n",
    "chrom = 12\n",
    "oxf_file = \"/usr/users/fsimone/datasets/gtex/GTEx_450Indiv_genot_imput_info04_maf01_HWEp1E6_dbSNP135IDs_donorIDs_dosage_chr{:d}.gz\".format(chrom)\n",
    "fam_file = \"/usr/users/fsimone/datasets/gtex/donor_ids.fam\"\n",
    "dataset = \"gtex\"\n",
    "nlocilimit = 10000\n",
    "\n",
    "oxf = ReadOxford(oxf_file, fam_file, chrom, dataset, nlocilimit)\n",
    "genotype = oxf.dosage\n",
    "samplenames = oxf.samplenames\n",
    "snps = oxf.snps_info\n",
    "\n",
    "# Filter genotype and Quality control\n",
    "snpinfo, gt = gtutils.remove_low_maf(snps, genotype, 0.1)\n",
    "gt_norm = gtutils.normalize(snpinfo, gt)\n",
    "\n",
    "# sample genotype randomly\n",
    "nsnps = 200\n",
    "sel_snps_ix = np.random.choice(gt_norm.shape[0], nsnps, replace = False)\n",
    "\n",
    "gtnorm = gt_norm[sel_snps_ix,:]\n",
    "X_info = [snpinfo[i] for i in sel_snps_ix]"
   ]
  },
  {
   "cell_type": "code",
   "execution_count": 2,
   "metadata": {},
   "outputs": [],
   "source": [
    "# Simulate Genotype in place\n",
    "from utils import model\n",
    "\n",
    "nsample          = 450\n",
    "nsnps            = 100\n",
    "\n",
    "snpinfo, gtnorm = model.simulate_dosage(nsample, nsnps)\n"
   ]
  },
  {
   "cell_type": "code",
   "execution_count": 34,
   "metadata": {},
   "outputs": [
    {
     "name": "stdout",
     "output_type": "stream",
     "text": [
      "Sigma: 0.115606\n",
      "Gamma:  [-2.19722458]\n",
      "Causal SNPs: 23/200\n",
      "Enrichment: [0.]\n",
      "Tau: 1.2909944487358056\n",
      "h2: 0.40347466457102793\n",
      "geno_eff var: 0.40347466457102804\n",
      "gx var: 1.0000000000000002\n",
      "sigma check: 0.1318760946791574\n"
     ]
    },
    {
     "data": {
      "image/png": "[encoded data removed]",
      "text/plain": [
       "<Figure size 936x504 with 1 Axes>"
      ]
     },
     "metadata": {},
     "output_type": "display_data"
    }
   ],
   "source": [
    "from utils import model\n",
    "import matplotlib.pyplot as plt\n",
    "\n",
    "nfeat_used       = 0 \n",
    "nfeat_causal     = 0\n",
    "base_pi          = 0.1\n",
    "sigma_bg         = 0.00001\n",
    "sigma            = 0.1\n",
    "\n",
    "# gx, gx2, \\\n",
    "# gammas, ncausal, \\\n",
    "# enrichment, feat_enriched, \\\n",
    "# causal_feature, causal_ix = model.simulate_gx_with_params(gtnorm, nsnps, base_pi = base_pi, \\\n",
    "#                                                     nfeat=nfeat_used, nfeat_causal=nfeat_causal, \\\n",
    "#                                                     sigma = sigma, sigma_bg = sigma_bg, debug = True)\n",
    "\n",
    "\n",
    "gx, gx2, \\\n",
    "gammas, ncausal, \\\n",
    "enrichment, feat_enriched, \\\n",
    "causal_feature, causal_ix, sigma, tau = model.simulate_gx_fixed_h2(gtnorm, nsnps, base_pi = base_pi, \\\n",
    "                            nfeat=nfeat_used, nfeat_causal=nfeat_causal, \\\n",
    "                            sigma_herited_sq = 0.4, debug = True)\n",
    "\n",
    "\n",
    "# target = scale(gx, with_mean=True, with_std=True)\n",
    "# print(\"Y scaled var:\", np.std(target)**2)\n",
    "\n",
    "fig = plt.figure(figsize=(13,7))\n",
    "ax = fig.add_subplot(121)\n",
    "ax.scatter(gx, gx2)\n",
    "plt.show()"
   ]
  },
  {
   "cell_type": "code",
   "execution_count": 35,
   "metadata": {},
   "outputs": [
    {
     "name": "stdout",
     "output_type": "stream",
     "text": [
      "Loaded 1 features\n"
     ]
    },
    {
     "data": {
      "text/plain": [
       "array([-2.19722458e+00,  0.00000000e+00,  1.15606251e-01,  1.00000000e-05,\n",
       "        1.29099445e+00])"
      ]
     },
     "execution_count": 35,
     "metadata": {},
     "output_type": "execute_result"
    }
   ],
   "source": [
    "def reset_params(gammas, nfeat, mu, sigma, sigma_bg, tau):\n",
    "    init_params = np.zeros(nfeat + 4)\n",
    "    init_params[0] = gammas[0]\n",
    "    if nfeat > 1:\n",
    "        for i in range(1, nfeat):\n",
    "            init_params[i] = gammas[i]\n",
    "    init_params[nfeat + 0] = mu\n",
    "    init_params[nfeat + 1] = sigma\n",
    "    init_params[nfeat + 2] = sigma_bg\n",
    "    init_params[nfeat + 3] = tau\n",
    "    return init_params\n",
    "\n",
    "def scramble_params(nfeat):\n",
    "    init_params = np.zeros(nfeat + 4)\n",
    "    init_params[0] = -1\n",
    "    if nfeat > 1:\n",
    "        for i in range(1, nfeat):\n",
    "            init_params[i] = 0\n",
    "    init_params[nfeat + 0] = 0.0\n",
    "    init_params[nfeat + 1] = 0.1\n",
    "    init_params[nfeat + 2] = 0.01\n",
    "    init_params[nfeat + 3] = 1 / 0.01 / 0.05\n",
    "    return init_params\n",
    "\n",
    "target = gx\n",
    "# target = scale(expression, with_mean=True, with_std=True)\n",
    "predictor = gtnorm\n",
    "\n",
    "znew = False\n",
    "\n",
    "####################\n",
    "#### Set initial params \n",
    "# g0       = -2\n",
    "mu       = 0.0\n",
    "# sigma    = 0.15\n",
    "# sigma_bg = 0.01\n",
    "# tau      = 0.05\n",
    "nvar     = predictor.shape[0]\n",
    "\n",
    "###### Acomodate features appropriately\n",
    "if nfeat_used > 0:\n",
    "    feature0 = np.ones((nsnps, 1))\n",
    "    features = np.concatenate((feature0, causal_feature), axis=1)\n",
    "else:\n",
    "    features = np.ones((nsnps, 1))\n",
    "\n",
    "\n",
    "dist_feature = np.ones(nsnps)\n",
    "cmax = 1\n",
    "nfeat = features.shape[1]\n",
    "print(\"Loaded {:d} features\".format(nfeat))\n",
    "\n",
    "init_params = reset_params(gammas, nfeat, mu, sigma, sigma_bg, tau)\n",
    "init_params"
   ]
  },
  {
   "cell_type": "code",
   "execution_count": 36,
   "metadata": {
    "scrolled": false
   },
   "outputs": [
    {
     "name": "stdout",
     "output_type": "stream",
     "text": [
      "The autoreload extension is already loaded. To reload it, use:\n",
      "  %reload_ext autoreload\n",
      "[-1.e+00  0.e+00  1.e-01  1.e-02  2.e+03]\n",
      "1.8496468091994143e-281 0.98\n",
      "zstates.py: Working with 2 leading zstates.\n",
      "6.051004362228204e-144 0.98\n",
      "zstates.py: Working with 2 leading zstates.\n",
      "2.7052929428946276e-133 0.98\n",
      "zstates.py: Working with 2 leading zstates.\n",
      "9.635189307661367e-106 0.98\n",
      "zstates.py: Working with 2 leading zstates.\n",
      "2.2746703497998848e-82 0.98\n",
      "zstates.py: Working with 2 leading zstates.\n",
      "1.582222271477658e-57 0.98\n",
      "zstates.py: Working with 2 leading zstates.\n",
      "2.7026587556758605e-38 0.98\n",
      "zstates.py: Working with 2 leading zstates.\n",
      "2.1921802169797947e-24 0.98\n",
      "zstates.py: Working with 2 leading zstates.\n",
      "9.490561676942343e-16 0.98\n",
      "zstates.py: Working with 2 leading zstates.\n",
      "5.094184626048133e-11 0.98\n",
      "zstates.py: Working with 2 leading zstates.\n",
      "8.126352953249333e-09 0.98\n",
      "zstates.py: Working with 2 leading zstates.\n",
      "9.134802521089698e-08 0.98\n",
      "zstates.py: Working with 2 leading zstates.\n",
      "1.532696858117622e-06 0.98\n",
      "zstates.py: Working with 2 leading zstates.\n",
      "6.117339032474551e-05 0.98\n",
      "zstates.py: Working with 2 leading zstates.\n",
      "0.0029557121845115897 0.98\n",
      "zstates.py: Working with 38 leading zstates.\n",
      "0.0014478108117296892 0.98\n",
      "zstates.py: Working with 3 leading zstates.\n",
      "0.0009285065013252609 0.98\n",
      "zstates.py: Working with 2 leading zstates.\n",
      "0.001014188908934796 0.98\n",
      "zstates.py: Working with 2 leading zstates.\n",
      "0.000718924465877955 0.98\n",
      "zstates.py: Working with 2 leading zstates.\n",
      "0.0010250497615241975 0.98\n",
      "zstates.py: Working with 2 leading zstates.\n",
      "0.0011844808896876963 0.98\n",
      "zstates.py: Working with 2 leading zstates.\n",
      "0.0013093654063238054 0.98\n",
      "zstates.py: Working with 2 leading zstates.\n",
      "0.0014021830988519915 0.98\n",
      "zstates.py: Working with 2 leading zstates.\n",
      "0.0012829509715421687 0.98\n",
      "zstates.py: Working with 2 leading zstates.\n",
      "0.0013636686833559516 0.98\n",
      "zstates.py: Working with 2 leading zstates.\n",
      "0.0011663056202527446 0.98\n",
      "zstates.py: Working with 2 leading zstates.\n",
      "0.0011256446214217748 0.98\n",
      "zstates.py: Working with 2 leading zstates.\n",
      "0.0011217447072811846 0.98\n",
      "zstates.py: Working with 2 leading zstates.\n",
      "0.0011215566387474515 0.98\n",
      "zstates.py: Working with 2 leading zstates.\n",
      "      fun: 587.8570958905372\n",
      " hess_inv: <5x5 LbfgsInvHessProduct with dtype=float64>\n",
      "      jac: array([-3.06008307e-05,  3.40319396e-02,  4.91170245e-05, -2.61334329e-04,\n",
      "       -1.02042708e-03])\n",
      "  message: b'CONVERGENCE: REL_REDUCTION_OF_F_<=_FACTR*EPSMCH'\n",
      "     nfev: 29\n",
      "      nit: 28\n",
      "   status: 0\n",
      "  success: True\n",
      "        x: array([-5.29447346,  0.        , -1.24372686, -3.3311303 , -0.22802608])\n",
      "Testing gamma 0\n",
      ".............................................\n",
      "Optimized grid min:  -5.19722457733622\n",
      "Optimized grad min:  -5.294473463844161\n",
      "Simulated val:  -2.1972245773362196\n"
     ]
    },
    {
     "data": {
      "image/png": "[encoded data removed]",
      "text/plain": [
       "<Figure size 432x288 with 1 Axes>"
      ]
     },
     "metadata": {},
     "output_type": "display_data"
    }
   ],
   "source": [
    "%load_ext autoreload\n",
    "%autoreload 2\n",
    "\n",
    "from iotools.io_model import WriteModel\n",
    "from inference.empirical_bayes import EmpiricalBayes\n",
    "from inference import logmarglik\n",
    "from utils import hyperparameters\n",
    "from utils.containers import ZstateInfo\n",
    "from inference import zstates as zs\n",
    "\n",
    "init_params = scramble_params(nfeat)\n",
    "print(init_params)\n",
    "\n",
    "emp_bayes = EmpiricalBayes(predictor, target, features, dist_feature, cmax, init_params, method=\"new\")\n",
    "emp_bayes.fit()  \n",
    "res = emp_bayes.params\n",
    "\n",
    "for i in range(nfeat):\n",
    "    init_params = reset_params(gammas, nfeat, mu, sigma, sigma_bg, tau)\n",
    "    gstart = gammas[i]-10\n",
    "    gend   = gammas[i]+1\n",
    "    step   = 0.25  \n",
    "    \n",
    "    G = np.arange(gstart, gend, step)\n",
    "    LML = list()\n",
    "    print(\"Testing gamma {:d}\".format(i))\n",
    "    for _g in G:\n",
    "        print(\".\", end=\"\")\n",
    "        init_params[i] = _g\n",
    "#         emp_bayes = EmpiricalBayes(predictor, target, features, dist_feature, cmax, init_params, method=\"basic\")\n",
    "        scaled_params = hyperparameters.scale(init_params)\n",
    "        if znew:\n",
    "            zstates = zs.create(scaled_params, predictor, target, features, dist_feature, cmax, nsnps, 0.98)\n",
    "        else:\n",
    "            zstates = [[]] + [[i] for i in range(nsnps)]\n",
    "        lml = logmarglik.func(scaled_params, predictor, target, features, dist_feature, zstates)\n",
    "        LML.append(lml)\n",
    "    \n",
    "    \n",
    "    print(\".\")\n",
    "    LML = np.array(LML)\n",
    "    fig = plt.figure()\n",
    "    ax = fig.add_subplot(111)\n",
    "    ax.scatter(G, LML)\n",
    "    ax.set_title(\"Gamma {:d}\".format(i))\n",
    "    actual_min = gstart + np.where(np.isin(LML, np.min(LML)))[0][0] * step\n",
    "    print(\"Optimized grid min: \", actual_min)\n",
    "    print(\"Optimized grad min: \", res[i])\n",
    "    print(\"Simulated val: \", gammas[i])\n",
    "    ax.axvline(gammas[i], color=\"red\", linestyle=\"dashed\")\n",
    "    ax.axvline(res[i], color=\"blue\", linestyle=\"dashed\")\n",
    "    ax.axvline(actual_min, color=\"green\")\n",
    "    # plt.xlim(-5, -3)\n",
    "    plt.show()\n",
    "    \n"
   ]
  },
  {
   "cell_type": "code",
   "execution_count": 38,
   "metadata": {},
   "outputs": [
    {
     "name": "stdout",
     "output_type": "stream",
     "text": [
      "Testing sigma\n",
      "................................\n",
      "Optimized min:  0.281\n",
      "Optimized grad min:  0.2883077293766184\n",
      "Simulated val:  0.11560625136024906\n"
     ]
    },
    {
     "data": {
      "image/png": "[encoded data removed]",
      "text/plain": [
       "<Figure size 432x288 with 1 Axes>"
      ]
     },
     "metadata": {},
     "output_type": "display_data"
    },
    {
     "name": "stdout",
     "output_type": "stream",
     "text": [
      "Testing sigma bg\n",
      "..........................\n",
      "Optimized min:  0.041\n",
      "Optimized grad min:  0.03575267109438848\n",
      "Simulated val:  1e-05\n"
     ]
    },
    {
     "data": {
      "image/png": "[encoded data removed]",
      "text/plain": [
       "<Figure size 432x288 with 1 Axes>"
      ]
     },
     "metadata": {},
     "output_type": "display_data"
    }
   ],
   "source": [
    "sstart = 0.001\n",
    "send   = sigma+0.5\n",
    "step   = 0.02\n",
    "\n",
    "init_params = reset_params(gammas, nfeat, mu, sigma, sigma_bg, tau)\n",
    "S = np.arange(sstart, send, step)\n",
    "LML = list()\n",
    "print(\"Testing sigma\")\n",
    "for _s in S:\n",
    "    \n",
    "    print(\".\", end=\"\")\n",
    "    init_params[nfeat + 1] = _s\n",
    "#         emp_bayes = EmpiricalBayes(predictor, target, features, dist_feature, cmax, init_params, method=\"basic\")\n",
    "    scaled_params = hyperparameters.scale(init_params)\n",
    "    if znew:\n",
    "        zstates = zs.create(scaled_params, predictor, target, features, dist_feature, cmax, nsnps, 0.98)\n",
    "    else:\n",
    "        zstates = [[]] + [[i] for i in range(nsnps)]\n",
    "    lml = logmarglik.func(scaled_params, predictor, target, features, dist_feature, zstates)\n",
    "    LML.append(lml)\n",
    "print(\".\")\n",
    "LML = np.array(LML)\n",
    "fig = plt.figure()\n",
    "ax = fig.add_subplot(111)\n",
    "ax.scatter(S, LML)\n",
    "ax.set_title(\"Sigma\")\n",
    "actual_min = sstart + np.where(np.isin(LML, np.min(LML)))[0][0] * step\n",
    "print(\"Optimized min: \", actual_min)\n",
    "print(\"Optimized grad min: \", res[nfeat+1])\n",
    "print(\"Simulated val: \", sigma)\n",
    "ax.axvline(res[nfeat+1], color=\"blue\", linestyle=\"dashed\")\n",
    "ax.axvline(sigma, color=\"red\", linestyle=\"dashed\")\n",
    "ax.axvline(actual_min, color=\"green\")\n",
    "# plt.xlim(-5, -3)\n",
    "plt.show()\n",
    "\n",
    "sstart = 0.001\n",
    "send   = sigma_bg+0.5\n",
    "step   = 0.02\n",
    "\n",
    "init_params = reset_params(gammas, nfeat, mu, sigma, sigma_bg, tau)\n",
    "S = np.arange(sstart, send, step)\n",
    "LML = list()\n",
    "print(\"Testing sigma bg\")\n",
    "for _s in S:\n",
    "    \n",
    "    print(\".\", end=\"\")\n",
    "    init_params[nfeat + 2] = _s\n",
    "#         emp_bayes = EmpiricalBayes(predictor, target, features, dist_feature, cmax, init_params, method=\"basic\")\n",
    "    scaled_params = hyperparameters.scale(init_params)\n",
    "    if znew:\n",
    "        zstates = zs.create(scaled_params, predictor, target, features, dist_feature, cmax, nsnps, 0.98)\n",
    "    else:\n",
    "        zstates = [[]] + [[i] for i in range(nsnps)]\n",
    "    lml = logmarglik.func(scaled_params, predictor, target, features, dist_feature, zstates)\n",
    "    LML.append(lml)\n",
    "print(\".\")\n",
    "LML = np.array(LML)\n",
    "fig = plt.figure()\n",
    "ax = fig.add_subplot(111)\n",
    "ax.scatter(S, LML)\n",
    "ax.set_title(\"Sigma bg\")\n",
    "actual_min = sstart + np.where(np.isin(LML, np.min(LML)))[0][0] * step\n",
    "print(\"Optimized min: \", actual_min)\n",
    "print(\"Optimized grad min: \", res[nfeat+2])\n",
    "print(\"Simulated val: \", sigma_bg)\n",
    "ax.axvline(res[nfeat+2], color=\"blue\", linestyle=\"dashed\")\n",
    "ax.axvline(sigma_bg, color=\"red\", linestyle=\"dashed\")\n",
    "ax.axvline(actual_min, color=\"green\")\n",
    "# plt.xlim(-5, -3)\n",
    "plt.show()"
   ]
  },
  {
   "cell_type": "code",
   "execution_count": null,
   "metadata": {},
   "outputs": [],
   "source": [
    "pi0 = 1/(1+np.exp(-gammas[0]))\n",
    "pi  = 1/(1+np.exp(7.19))\n",
    "\n",
    "print(\"pi0: \",pi0)\n",
    "print(\"pi:  \",pi)\n",
    "print(\"Suma: \", pi0 + pi)\n",
    "      "
   ]
  },
  {
   "cell_type": "code",
   "execution_count": null,
   "metadata": {},
   "outputs": [],
   "source": [
    "_g0 = gammas[0]\n",
    "_g1 = gammas[1]\n",
    "\n",
    "# _g0 = -7.19\n",
    "# _g1 = -1.65\n",
    "G0 = 1/(1 + np.exp(-_g0))\n",
    "G1 = 1/(1 + np.exp(-_g0-_g1))\n",
    "\n",
    "print(G1/G0)"
   ]
  },
  {
   "cell_type": "markdown",
   "metadata": {},
   "source": [
    "# Prediction from the learnt simulations"
   ]
  },
  {
   "cell_type": "code",
   "execution_count": null,
   "metadata": {},
   "outputs": [],
   "source": [
    "from iotools.io_model import ReadModel\n",
    "from utils.containers import GeneExpressionArray\n",
    "from utils import gtutils\n",
    "from utils import mfunc\n",
    "import numpy as np\n",
    "\n",
    "usefeat_name = \"no_feat\"\n",
    "if use_feat:\n",
    "    usefeat_name = \"with_feat\"\n",
    "modelpath = \"simulations_learnt_{:s}\".format(usefeat_name)\n",
    "outfileprefix = os.path.join(modelpath,\"pred_chr\"+str(chrom))\n",
    "\n",
    "oxf = ReadOxford(oxf_file, fam_file, chrom, dataset)\n",
    "p_genotype = oxf.dosage\n",
    "p_samplenames = oxf.samplenames\n",
    "p_snps = oxf.snps_info\n",
    "p_nsample = len(oxf.samplenames)\n",
    "\n",
    "\n",
    "print(\"Predicting for \"+modelpath)\n",
    "# Write predictions for each model\n",
    "p_model = ReadModel(modelpath, chrom)\n",
    "p_genes = p_model.genes\n",
    "gx = list()\n",
    "for gene in p_genes:\n",
    "\n",
    "    p_model.read_gene(gene)\n",
    "    p_model_snps = p_model.snps\n",
    "    p_model_zstates = p_model.zstates\n",
    "\n",
    "    x = gtutils.prediction_variables(p_snps, p_model_snps, p_genotype)\n",
    "    x = gtutils.normalize(p_model_snps, x)\n",
    "\n",
    "    ypred = np.zeros(p_nsample)\n",
    "    for z in p_model_zstates:\n",
    "        ypred += z.prob * np.dot(x.T, z.exp)\n",
    "\n",
    "    gx.append(GeneExpressionArray(geneid = gene.ensembl_id, expr_arr = ypred))\n",
    "\n",
    "\n",
    "# Write output\n",
    "print(\"Done predicting for \"+modelpath)\n",
    "mfunc.write_gcta_phenotype(outfileprefix, p_samplenames, gx)"
   ]
  },
  {
   "cell_type": "markdown",
   "metadata": {},
   "source": [
    "# Comparison learnt and predicted"
   ]
  },
  {
   "cell_type": "code",
   "execution_count": null,
   "metadata": {},
   "outputs": [],
   "source": [
    "from iotools.readPrediction import ReadPrediction\n",
    "\n",
    "folder = \"simulations\"\n",
    "usefeat_name = \"no_feat\"\n",
    "if use_feat:\n",
    "    usefeat_name = \"with_feat\"\n",
    "modelpath = \"simulations_learnt_{:s}\".format(usefeat_name)\n",
    "gxpred_predpath = modelpath\n",
    "\n",
    "# Load predicted data\n",
    "gxpred = ReadPrediction(gxpred_predpath, fam_file, \"gxpred\", trim=False, chrom=chrom)\n",
    "\n",
    "# Gene Expression\n",
    "gx_file_validation = os.path.join(folder,\"{:s}.expr.validation\".format(genename))\n",
    "rpkm = ReadRPKM(gx_file_validation, \"gtex\")\n",
    "ref_expression = rpkm.expression\n",
    "ref_expr_donors = rpkm.donor_ids\n",
    "ref_gene_names = rpkm.gene_names\n",
    "\n",
    "target_gene_list = ref_gene_names\n",
    "\n",
    "gxpred.sort_by_gene(target_gene_list)\n",
    "\n"
   ]
  },
  {
   "cell_type": "code",
   "execution_count": null,
   "metadata": {},
   "outputs": [],
   "source": [
    "from utils.helper_functions import get_common_elements, pearson_corr_rowwise\n",
    "\n",
    "if gxpred.samples == ref_expr_donors:\n",
    "    print(\"alles gut\")\n",
    "    gxpred_r = pearson_corr_rowwise(ref_expression, gxpred.sorted_expr_mat.T)\n"
   ]
  },
  {
   "cell_type": "code",
   "execution_count": null,
   "metadata": {},
   "outputs": [],
   "source": [
    "gxpred_r"
   ]
  },
  {
   "cell_type": "code",
   "execution_count": null,
   "metadata": {},
   "outputs": [],
   "source": [
    "import matplotlib.pyplot as plt\n",
    "\n",
    "plt.scatter(ref_expression, gxpred.sorted_expr_mat.T)"
   ]
  },
  {
   "cell_type": "code",
   "execution_count": null,
   "metadata": {},
   "outputs": [],
   "source": [
    "plt.scatter(ref_expression, expression)"
   ]
  },
  {
   "cell_type": "code",
   "execution_count": null,
   "metadata": {},
   "outputs": [],
   "source": [
    "pearson_corr_rowwise(ref_expression, expression)"
   ]
  },
  {
   "cell_type": "code",
   "execution_count": null,
   "metadata": {},
   "outputs": [],
   "source": [
    "### Read genes.txt\n",
    "\n",
    "import pandas as pd\n",
    "import numpy as np\n",
    "\n",
    "df = pd.read_table(\"inv_simulations_learnt_with_feat/chr12/genes.txt\", header=0)\n",
    "newcolumns = list(df.columns)\n",
    "newcolumns = [i.strip() for i in newcolumns]\n",
    "df.columns = newcolumns\n",
    "\n"
   ]
  },
  {
   "cell_type": "code",
   "execution_count": null,
   "metadata": {},
   "outputs": [],
   "source": [
    "\n",
    "for i in range(0, 4):\n",
    "    _g0 = df.Gamma0[i]\n",
    "    _g1 = df.Gamma1[i]\n",
    "    G0 = 1/(1 + np.exp(-_g0))\n",
    "    G1 = 1/(1 + np.exp(-_g0-_g1))\n",
    "\n",
    "    # GX = 1/(1 + np.exp(np.sum(-gammas)))\n",
    "    # GX0= 1/(1 + np.exp(-gammas[0]))\n",
    "\n",
    "    print(G1/G0)"
   ]
  },
  {
   "cell_type": "code",
   "execution_count": null,
   "metadata": {},
   "outputs": [],
   "source": [
    "\n",
    "for i in range(0, 4):\n",
    "    _g0 = df.Gamma0[i]\n",
    "    _g1 = df.Gamma1[i]\n",
    "    G0 = 1/(1 + np.exp(-_g0))\n",
    "    G1 = 1/(1 + np.exp(-_g0-_g1))\n",
    "\n",
    "    # GX = 1/(1 + np.exp(np.sum(-gammas)))\n",
    "    # GX0= 1/(1 + np.exp(-gammas[0]))\n",
    "\n",
    "    print(G1/G0)"
   ]
  },
  {
   "cell_type": "code",
   "execution_count": null,
   "metadata": {},
   "outputs": [],
   "source": []
  }
 ],
 "metadata": {
  "kernelspec": {
   "display_name": "Python 3",
   "language": "python",
   "name": "python3"
  },
  "language_info": {
   "codemirror_mode": {
    "name": "ipython",
    "version": 3
   },
   "file_extension": ".py",
   "mimetype": "text/x-python",
   "name": "python",
   "nbconvert_exporter": "python",
   "pygments_lexer": "ipython3",
   "version": "3.6.4"
  }
 },
 "nbformat": 4,
 "nbformat_minor": 2
}
