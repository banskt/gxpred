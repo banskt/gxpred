{
 "cells": [
  {
   "cell_type": "code",
   "execution_count": 1,
   "metadata": {
    "collapsed": true
   },
   "outputs": [],
   "source": [
    "import os\n",
    "import sys\n",
    "module_path = os.path.abspath(os.path.join('/mnt/storage/saikat/work/gwas-eQTL/codebase/gxpred/'))\n",
    "if module_path not in sys.path:\n",
    "    sys.path.append(module_path)"
   ]
  },
  {
   "cell_type": "code",
   "execution_count": 2,
   "metadata": {
    "collapsed": true
   },
   "outputs": [],
   "source": [
    "import argparse\n",
    "import numpy as np\n",
    "\n",
    "from iotools.readvcf import ReadVCF\n",
    "from iotools.readrpkm import ReadRPKM\n",
    "from iotools import readgtf\n",
    "from utils import gtutils\n",
    "from utils import mfunc\n",
    "from utils.containers import GeneExpressionArray"
   ]
  },
  {
   "cell_type": "code",
   "execution_count": 3,
   "metadata": {
    "collapsed": true
   },
   "outputs": [],
   "source": [
    "train_vcfpath = \"data/input/chr21_correlated_genes.vcf.gz\"\n",
    "pred_vcfpath = \"data/input/GTEx_450Indiv_chr21_genot_imput_info04_maf01_HWEp1E6_ConstrVarIDs_donorIDs_46_49Mb.vcf.gz\"\n",
    "#pred_vcfpath = \"data/input/chr21_correlated_genes.vcf.gz\"\n",
    "rpkmpath = \"data/input/correlated_genes.txt\"\n",
    "gtfpath = \"data/input/correlated_genes.gtf.gz\"\n",
    "outpath = \"elastic_net_gxpred\"\n",
    "obsv_expr_path = \"data/input/gtex_wholeblood_normalized_expression_correlated_genes.txt\"\n",
    "chrom = 21\n",
    "window = 1000000"
   ]
  },
  {
   "cell_type": "code",
   "execution_count": 4,
   "metadata": {
    "collapsed": true
   },
   "outputs": [],
   "source": [
    "# Genotype\n",
    "vcf = ReadVCF(train_vcfpath, mode=\"GT\")\n",
    "genotype = vcf.dosage\n",
    "vcf_donors = vcf.donor_ids\n",
    "snps = vcf.snpinfo\n",
    "snps_nofilter = snps\n",
    "\n",
    "# Quality control\n",
    "#snps, genotype = gtutils.remove_low_maf(snps, genotype, 0.1)\n",
    "#gt = gtutils.normalize(snps, genotype)\n",
    "gt = genotype\n",
    "\n",
    "# Annotation\n",
    "gene_info = readgtf.gencode_v12(gtfpath, include_chrom = chrom)\n",
    "\n",
    "# Gene Expression\n",
    "rpkm = ReadRPKM(rpkmpath)\n",
    "expression = rpkm.expression\n",
    "expr_donors = rpkm.donor_ids\n",
    "gene_names = rpkm.gene_names\n",
    "\n",
    "# Selection\n",
    "vcfmask, exprmask = mfunc.select_donors(vcf_donors, expr_donors)\n",
    "genes, indices = mfunc.select_genes(gene_info, gene_names)\n",
    "\n",
    "# Prediction genotype\n",
    "pred_vcf = ReadVCF(pred_vcfpath, mode=\"DS\")\n",
    "pred_genotype = pred_vcf.dosage\n",
    "pred_vcf_donors = pred_vcf.donor_ids\n",
    "pred_snps = pred_vcf.snpinfo\n",
    "pred_nsample = len(pred_vcf_donors)"
   ]
  },
  {
   "cell_type": "code",
   "execution_count": 5,
   "metadata": {
    "collapsed": true
   },
   "outputs": [],
   "source": [
    "pred_expr = list()\n",
    "pred_expr_donors = list()\n",
    "with open(obsv_expr_path, 'r') as mfile:\n",
    "    header = mfile.readline().split()[1:]\n",
    "    for mline in mfile:\n",
    "        row = mline.split()\n",
    "        pred_expr.append(np.array([float(x) for x in row[1:]]))\n",
    "        \n",
    "pred_expr_donors = ['-'.join(x.split('-')[:2]) for x in header]\n",
    "pred_expr = np.vstack(pred_expr)\n",
    "pred_vcfmask, pred_exprmask = mfunc.select_donors(pred_vcf_donors, pred_expr_donors)\n",
    "pred_genotype = pred_genotype[:, pred_vcfmask]\n",
    "pred_expr = pred_expr[:, pred_exprmask]"
   ]
  },
  {
   "cell_type": "code",
   "execution_count": 6,
   "metadata": {
    "collapsed": true
   },
   "outputs": [],
   "source": [
    "from sklearn.linear_model import ElasticNetCV\n",
    "from sklearn.preprocessing import scale\n",
    "from scipy import stats"
   ]
  },
  {
   "cell_type": "code",
   "execution_count": null,
   "metadata": {
    "collapsed": true
   },
   "outputs": [],
   "source": [
    "genes"
   ]
  },
  {
   "cell_type": "code",
   "execution_count": 11,
   "metadata": {},
   "outputs": [
    {
     "name": "stderr",
     "output_type": "stream",
     "text": [
      "/home/saikat/miniconda3/envs/py36/lib/python3.6/site-packages/sklearn/linear_model/coordinate_descent.py:484: ConvergenceWarning: Objective did not converge. You might want to increase the number of iterations. Fitting data with very small alpha may cause precision problems.\n",
      "  ConvergenceWarning)\n"
     ]
    },
    {
     "name": "stdout",
     "output_type": "stream",
     "text": [
      "Min. MSE: 0.763822\n",
      "Min. lambda: 0.0757114\n",
      "Selected SNPs: 48\n",
      "R-squared: 0.390611\n",
      "p-value: 8.26572e-42\n",
      "Prediction on GTEx ==== \n",
      "R-squared: 0.201704\n",
      "p-value: 3.50531e-18\n"
     ]
    },
    {
     "name": "stderr",
     "output_type": "stream",
     "text": [
      "/home/saikat/miniconda3/envs/py36/lib/python3.6/site-packages/sklearn/linear_model/coordinate_descent.py:484: ConvergenceWarning: Objective did not converge. You might want to increase the number of iterations. Fitting data with very small alpha may cause precision problems.\n",
      "  ConvergenceWarning)\n"
     ]
    },
    {
     "name": "stdout",
     "output_type": "stream",
     "text": [
      "Min. MSE: 0.81693\n",
      "Min. lambda: 0.118241\n",
      "Selected SNPs: 24\n",
      "R-squared: 0.260115\n",
      "p-value: 4.32561e-26\n",
      "Prediction on GTEx ==== \n",
      "R-squared: 0.291618\n",
      "p-value: 5.59652e-27\n"
     ]
    }
   ],
   "source": [
    "gxpred = list()\n",
    "for i, gene in enumerate(genes):\n",
    "    k = indices[i]\n",
    "    cismask = mfunc.select_snps(gene, snps, window)\n",
    "    if len(cismask) > 0:\n",
    "        Y_train = expression[k, exprmask]\n",
    "        Y_train = scale(Y_train, with_mean=True, with_std=True)\n",
    "        X_train = gt[cismask][:, vcfmask]\n",
    "        train_snps = [snps[j] for j in cismask]\n",
    "        X_pred = gtutils.prediction_variables(pred_snps, train_snps, pred_genotype)\n",
    "        Y_gtex = pred_expr[i]\n",
    "        #X_pred = gtutils.normalize(train_snps, X_pred)\n",
    "        \n",
    "        csvfilename = \"{:s}_gt.csv\".format(gene.name)\n",
    "        np.savetxt(csvfilename, X_train, delimiter=',')\n",
    "        csvfilename = \"{:s}_gx.csv\".format(gene.name)\n",
    "        np.savetxt(csvfilename, Y_train, delimiter=',')\n",
    "        csvfilename = \"{:s}_gtex_gt.csv\".format(gene.name)\n",
    "        np.savetxt(csvfilename, X_pred, delimiter=',')\n",
    "        csvfilename = \"{:s}_gtex_gx.csv\".format(gene.name)\n",
    "        np.savetxt(csvfilename, Y_gtex, delimiter=',')\n",
    "        \n",
    "        regr = ElasticNetCV(l1_ratio=0.5, cv=10, random_state=0)\n",
    "        regr.fit(X_train.T, Y_train)\n",
    "        Y_pred_samedata = regr.predict(X_train.T)\n",
    "        slope, intercept, r_value, p_value, std_err = stats.linregress(Y_pred_samedata, Y_train)\n",
    "        print (\"Min. MSE: {:g}\".format(np.min(np.mean(regr.mse_path_, axis = 1))))\n",
    "        print (\"Min. lambda: {:g}\".format(regr.alpha_))\n",
    "        print (\"Selected SNPs: {:d}\".format(np.where(regr.coef_ != 0)[0].shape[0]))\n",
    "        print (\"R-squared: {:g}\".format(r_value ** 2))\n",
    "        print (\"p-value: {:g}\".format(p_value))                       \n",
    "        print (\"Prediction on GTEx ==== \")\n",
    "        Y_pred = regr.predict(X_pred.T)\n",
    "        gxpred.append(GeneExpressionArray(geneid = gene.ensembl_id, expr_arr = Y_pred))\n",
    "        slope, intercept, r_value, p_value, std_err = stats.linregress(Y_pred, Y_gtex)\n",
    "        print (\"R-squared: {:g}\".format(r_value ** 2))\n",
    "        print (\"p-value: {:g}\".format(p_value)) \n",
    "    else:\n",
    "        print(\"No genotype for gene {:s}\".format(gene.name))\n",
    "        \n",
    "# Write output\n",
    "mfunc.write_gcta_phenotype(outpath, [pred_vcf_donors[x] for x in pred_vcfmask], gxpred)"
   ]
  },
  {
   "cell_type": "code",
   "execution_count": 7,
   "metadata": {},
   "outputs": [
    {
     "name": "stdout",
     "output_type": "stream",
     "text": [
      "True 0.0425531914893617 46636145\n",
      "True 0.0625 46646264\n",
      "True 0.5 46775249\n",
      "True 0.5 46775677\n",
      "True 0.09973404255319149 46859163\n",
      "True 0.006648936170212766 46905824\n",
      "True 0.005319148936170213 46932589\n",
      "True 0.1356382978723404 47032094\n",
      "True 0.041223404255319146 47091238\n",
      "True 0.25132978723404253 47253215\n",
      "True 0.005319148936170213 47331964\n",
      "True 0.32978723404255317 47347750\n",
      "True 0.32978723404255317 47353775\n",
      "True 0.39361702127659576 47355955\n",
      "True 0.32978723404255317 47362647\n",
      "True 0.839095744680851 47375268\n",
      "True 0.839095744680851 47376757\n",
      "True 0.15691489361702127 47457507\n",
      "True 0.16356382978723405 47469124\n",
      "True 0.538563829787234 47476701\n",
      "True 0.4734042553191489 47501261\n",
      "True 0.06648936170212766 47502874\n",
      "True 0.08776595744680851 47503353\n",
      "True 0.17553191489361702 47519026\n",
      "True 0.7313829787234043 47553922\n",
      "True 0.31382978723404253 47575372\n",
      "True 0.28058510638297873 47582102\n",
      "True 0.19148936170212766 47589099\n",
      "True 0.18351063829787234 47599280\n",
      "True 0.6276595744680851 47608580\n",
      "True 0.6901595744680851 47610066\n",
      "True 0.6276595744680851 47611310\n",
      "True 0.6276595744680851 47612471\n",
      "True 0.511968085106383 47652185\n",
      "True 0.8603723404255319 47652549\n",
      "True 0.5146276595744681 47653704\n",
      "True 0.1077127659574468 47699856\n",
      "True 0.05585106382978723 47808253\n",
      "True 0.13962765957446807 47808617\n",
      "True 0.17819148936170212 47970581\n",
      "True 0.261968085106383 47984563\n",
      "True 0.17420212765957446 48025794\n",
      "True 0.25 48060825\n",
      "True 0.75 48061211\n",
      "True 0.2473404255319149 48062171\n"
     ]
    }
   ],
   "source": [
    "import collections\n",
    "chr21snps = collections.defaultdict(lambda:0)\n",
    "with open('data/input/geuvadis.annot.chr21.txt') as mfile:\n",
    "    mfile.readline()\n",
    "    for mline in mfile:\n",
    "        row = mline.split()\n",
    "        chr21snps[row[5]] = int(row[1])\n",
    "\n",
    "i = 0\n",
    "gene = genes[i]\n",
    "bplist = [x.bp_pos for x in snps]\n",
    "cismask = list()\n",
    "betas = list()\n",
    "with open('C21orf56_snps.txt') as mfile:\n",
    "    mfile.readline()\n",
    "    for mline in mfile:\n",
    "        row = mline.split()\n",
    "        bppos = chr21snps[row[1]]\n",
    "        mindex = bplist.index(bppos)\n",
    "        cismask.append(mindex)\n",
    "        betas.append(float(row[4]))\n",
    "        print (row[2] == snps[mindex].ref_allele or row[2] == snps[mindex].alt_allele, snps[mindex].maf, bppos)\n",
    "cismask = np.array(cismask)\n",
    "betas = np.array(betas)\n",
    "train_snps = [snps[j] for j in cismask]\n",
    "X_pred = gtutils.prediction_variables(pred_snps, train_snps, pred_genotype)\n",
    "Y_gtex = pred_expr[i]"
   ]
  },
  {
   "cell_type": "code",
   "execution_count": 8,
   "metadata": {},
   "outputs": [
    {
     "name": "stdout",
     "output_type": "stream",
     "text": [
      "R-squared: 0.243057\n",
      "p-value: 4.21044e-22\n"
     ]
    }
   ],
   "source": [
    "ypred = np.dot(X_pred.T, betas)\n",
    "Y_gtex_scaled = scale(Y_gtex)\n",
    "slope, intercept, r_value, p_value, std_err = stats.linregress(Y_gtex, ypred)\n",
    "print (\"R-squared: {:g}\".format(r_value ** 2))\n",
    "print (\"p-value: {:g}\".format(p_value))"
   ]
  },
  {
   "cell_type": "code",
   "execution_count": 9,
   "metadata": {},
   "outputs": [
    {
     "data": {
      "text/plain": [
       "array([[ 0.   ,  0.   ,  0.   , ...,  0.   ,  0.   ,  0.   ],\n",
       "       [ 0.   ,  0.   ,  1.   , ...,  0.   ,  1.   ,  0.   ],\n",
       "       [ 2.   ,  2.   ,  2.   , ...,  2.   ,  0.201,  1.   ],\n",
       "       ..., \n",
       "       [ 0.   ,  1.   ,  0.   , ...,  1.   ,  1.   ,  0.   ],\n",
       "       [ 2.   ,  1.   ,  2.   , ...,  1.   ,  1.   ,  2.   ],\n",
       "       [ 0.   ,  1.   ,  0.   , ...,  1.   ,  1.   ,  0.   ]])"
      ]
     },
     "execution_count": 9,
     "metadata": {},
     "output_type": "execute_result"
    }
   ],
   "source": [
    "X_pred"
   ]
  },
  {
   "cell_type": "code",
   "execution_count": 10,
   "metadata": {},
   "outputs": [
    {
     "name": "stdout",
     "output_type": "stream",
     "text": [
      "R-squared: 0.243057\n",
      "p-value: 4.21044e-22\n"
     ]
    }
   ],
   "source": [
    "y_predixcan = list()\n",
    "predixcan_donors = list()\n",
    "with open('C21orf56_predixcan.txt', 'r') as mfile:\n",
    "    mfile.readline()\n",
    "    for mline in mfile:\n",
    "        row = mline.split()\n",
    "        y_predixcan.append(float(row[1]))\n",
    "        predixcan_donors.append(row[0])\n",
    "predixcan_mask = [predixcan_donors.index(pred_vcf_donors[x]) for x in pred_vcfmask]\n",
    "y_predixcan = np.array([y_predixcan[x] for x in predixcan_mask])\n",
    "slope, intercept, r_value, p_value, std_err = stats.linregress(y_predixcan, Y_gtex)\n",
    "print (\"R-squared: {:g}\".format(r_value ** 2))\n",
    "print (\"p-value: {:g}\".format(p_value))"
   ]
  },
  {
   "cell_type": "code",
   "execution_count": null,
   "metadata": {
    "collapsed": true
   },
   "outputs": [],
   "source": [
    "print (\"Calculated: {:g}\\nPrediXcan:  {:g}\".format(ypred[3], y_predixcan[3]))"
   ]
  },
  {
   "cell_type": "code",
   "execution_count": null,
   "metadata": {
    "collapsed": true
   },
   "outputs": [],
   "source": [
    "import pandas as pd\n",
    "dosagefile = '../predixcan/debug/GTEx_450Indiv_genot_imput_info04_maf01_HWEp1E6_dbSNP142IDs_donorIDs_dosage_chr21.dosage'\n",
    "dosage_df = pd.read_csv(dosagefile, sep=' ', index_col=1, header = None)"
   ]
  },
  {
   "cell_type": "code",
   "execution_count": null,
   "metadata": {
    "collapsed": true
   },
   "outputs": [],
   "source": [
    "dosage_donors = list()\n",
    "with open('../predixcan/debug/donor_ids.fam') as mfile:\n",
    "    for mline in mfile:\n",
    "        dosage_donors.append(mline.split()[0].strip())"
   ]
  },
  {
   "cell_type": "code",
   "execution_count": null,
   "metadata": {
    "collapsed": true
   },
   "outputs": [],
   "source": [
    "meta_cols = [ 'chrom', 'bp_pos', 'ref', 'alt', 'freq']\n",
    "dosage_df.columns = meta_cols + dosage_donors\n",
    "#dosage_df.drop(meta_cols, axis=1, inplace=True)\n",
    "ordered_dosage_donors = [pred_vcf_donors[x] for x in pred_vcfmask]\n",
    "#dosage_df = dosage_df[ordered_dosage_donors]\n",
    "#dosage_df"
   ]
  },
  {
   "cell_type": "code",
   "execution_count": null,
   "metadata": {
    "collapsed": true
   },
   "outputs": [],
   "source": [
    "train_rsids = list()\n",
    "betas = list()\n",
    "X_pred = list()\n",
    "with open('C21orf56_snps.txt') as mfile:\n",
    "    mfile.readline()\n",
    "    for mline in mfile:\n",
    "        row = mline.split()\n",
    "        this_rsid = row[1]\n",
    "        train_rsids.append(this_rsid)\n",
    "        this_ref = dosage_df['ref'].loc[this_rsid]\n",
    "        mindex = bplist.index(chr21snps[this_rsid])\n",
    "        if this_ref == snps[mindex].ref_allele:\n",
    "            this_gt = dosage_df[ordered_dosage_donors].loc[this_rsid].as_matrix()\n",
    "        elif this_ref == snps[mindex].alt_allele:\n",
    "            this_gt = 2.0 - dosage_df[ordered_dosage_donors].loc[this_rsid].as_matrix()\n",
    "        else:\n",
    "            this_gt = np.zeros(len(ordered_dosage_donors))\n",
    "        X_pred.append(this_gt)\n",
    "        betas.append(float(row[4]))\n",
    "\n",
    "betas = np.array(betas)\n",
    "X_pred = np.vstack(X_pred)\n",
    "ypred = np.dot(X_pred.T, betas)\n",
    "Y_gtex_scaled = scale(Y_gtex)\n",
    "slope, intercept, r_value, p_value, std_err = stats.linregress(Y_gtex, ypred)\n",
    "print (\"R-squared: {:g}\".format(r_value ** 2))\n",
    "print (\"p-value: {:g}\".format(p_value))"
   ]
  },
  {
   "cell_type": "code",
   "execution_count": null,
   "metadata": {
    "collapsed": true
   },
   "outputs": [],
   "source": [
    "mx_trial = X_pred[:,3]\n",
    "mx_trial"
   ]
  },
  {
   "cell_type": "code",
   "execution_count": null,
   "metadata": {
    "collapsed": true
   },
   "outputs": [],
   "source": [
    "np.dot(mx_trial, betas)"
   ]
  },
  {
   "cell_type": "code",
   "execution_count": null,
   "metadata": {
    "collapsed": true
   },
   "outputs": [],
   "source": [
    "lambdas = regr.alphas_\n",
    "cvm = np.mean(regr.mse_path_, axis = 1)\n",
    "cvm_err = np.std(regr.mse_path_, axis = 1)"
   ]
  },
  {
   "cell_type": "code",
   "execution_count": null,
   "metadata": {
    "collapsed": true
   },
   "outputs": [],
   "source": [
    "import matplotlib.pyplot as plt\n",
    "\n",
    "fig = plt.figure()\n",
    "plt.plot(np.log(lambdas), cvm)\n",
    "plt.show()"
   ]
  },
  {
   "cell_type": "code",
   "execution_count": null,
   "metadata": {
    "collapsed": true
   },
   "outputs": [],
   "source": [
    "from inference.linreg_association import LinRegAssociation\n",
    "assoc_model = LinRegAssociation(X_train, Y_train, 100, 0.05)\n",
    "selecttop = assoc_model.selected_variables"
   ]
  },
  {
   "cell_type": "code",
   "execution_count": null,
   "metadata": {
    "collapsed": true
   },
   "outputs": [],
   "source": [
    "bgpool = [i for i in range(1040) if i not in selecttop]\n",
    "nbg = min(max(100, len(selecttop)), len(bgpool))\n",
    "selectbg = np.random.choice(bgpool, nbg)\n",
    "select = np.concatenate((selecttop, selectbg))"
   ]
  },
  {
   "cell_type": "code",
   "execution_count": null,
   "metadata": {
    "collapsed": true
   },
   "outputs": [],
   "source": [
    "gt = [\"1/1\", \"1|0\", \"0|1\", \"1|1\", \"0|0\", \".|0\"]"
   ]
  },
  {
   "cell_type": "code",
   "execution_count": null,
   "metadata": {
    "collapsed": true
   },
   "outputs": [],
   "source": [
    "[ int(x[0]) + int(x[2]) if len(x) == 3 and x[0] != \".\" and x[2] != \".\" else \".\" for x in gt ]"
   ]
  },
  {
   "cell_type": "code",
   "execution_count": null,
   "metadata": {
    "collapsed": true
   },
   "outputs": [],
   "source": []
  }
 ],
 "metadata": {
  "kernelspec": {
   "display_name": "Python 3",
   "language": "python",
   "name": "python3"
  },
  "language_info": {
   "codemirror_mode": {
    "name": "ipython",
    "version": 3
   },
   "file_extension": ".py",
   "mimetype": "text/x-python",
   "name": "python",
   "nbconvert_exporter": "python",
   "pygments_lexer": "ipython3",
   "version": "3.6.1"
  }
 },
 "nbformat": 4,
 "nbformat_minor": 2
}
