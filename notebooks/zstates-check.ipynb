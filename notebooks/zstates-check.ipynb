{
 "cells": [
  {
   "cell_type": "code",
   "execution_count": null,
   "metadata": {
    "collapsed": true
   },
   "outputs": [],
   "source": [
    "import numpy as np\n",
    "import time\n",
    "import os\n",
    "import sys\n",
    "\n",
    "module_path = os.path.abspath(os.path.join('..'))\n",
    "if module_path not in sys.path:\n",
    "    sys.path.append(module_path)\n",
    "\n",
    "from utils import model\n",
    "from utils import hyperparameters\n",
    "from inference import logmarglik\n",
    "from inference import zstates_old_method as zs_old\n",
    "from inference import zstates as zs\n",
    "\n",
    "pi = 0.01\n",
    "mu = 0.0\n",
    "sigmabg = 0.001\n",
    "sigma = 0.1\n",
    "tau = 1 / (0.0005 * 0.0005)\n",
    "\n",
    "nsample = 300\n",
    "nsnps = 2000\n",
    "x, y, csnps, v = model.simulate(nsample, nsnps, \n",
    "                                pi = pi,\n",
    "                                mu = mu,\n",
    "                                sigma = sigma,\n",
    "                                sigmabg = sigmabg,\n",
    "                                tau = tau)\n",
    "params = np.array([pi, mu, sigma, sigmabg, tau])\n",
    "#params = np.array([0.1, 0, 0.01, 0.01, 300])"
   ]
  },
  {
   "cell_type": "code",
   "execution_count": null,
   "metadata": {
    "collapsed": true
   },
   "outputs": [],
   "source": [
    "scaledparams = hyperparameters.scale(params)\n",
    "znew = zs.create(scaledparams, x, y, 2, x.shape[0], 0.98)"
   ]
  },
  {
   "cell_type": "code",
   "execution_count": null,
   "metadata": {},
   "outputs": [],
   "source": [
    "len(znew)"
   ]
  },
  {
   "cell_type": "code",
   "execution_count": null,
   "metadata": {
    "collapsed": true
   },
   "outputs": [],
   "source": []
  }
 ],
 "metadata": {
  "kernelspec": {
   "display_name": "Python 3",
   "language": "python",
   "name": "python3"
  },
  "language_info": {
   "codemirror_mode": {
    "name": "ipython",
    "version": 3
   },
   "file_extension": ".py",
   "mimetype": "text/x-python",
   "name": "python",
   "nbconvert_exporter": "python",
   "pygments_lexer": "ipython3",
   "version": "3.6.1"
  }
 },
 "nbformat": 4,
 "nbformat_minor": 2
}
