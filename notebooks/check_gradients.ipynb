{
 "cells": [
  {
   "cell_type": "code",
   "execution_count": 12,
   "metadata": {
    "collapsed": true
   },
   "outputs": [],
   "source": [
    "import sys\n",
    "sys.path.append(\"../\")\n",
    "\n",
    "import numpy as np\n",
    "import time\n",
    "from utils import model\n",
    "from inference import log_marginal_likelihood\n",
    "from inference import zstates as zs\n",
    "from inference import zstates_old_method as zs_old\n",
    "from utils import hyperparameters\n",
    "\n",
    "pi = 0.1\n",
    "mu = 0.0\n",
    "sigmabg = 0.001\n",
    "sigma = 0.3\n",
    "tau = 1 / (0.005 * 0.005)\n",
    "\n",
    "x, y, csnps, v = model.simulate(pi = pi,\n",
    "                             mu = mu,\n",
    "                             sigma = sigma,\n",
    "                             sigmabg = sigmabg,\n",
    "                             tau = tau)\n",
    "\n",
    "nvar = x.shape[0]\n",
    "nsample = x.shape[1]\n",
    "params = np.array([pi, mu, sigma, sigmabg, tau])\n",
    "scaledparams = hyperparameters.scale(params)\n",
    "cmax = 1\n",
    "zstates_new = zs.create(scaledparams, x, y, cmax, nvar, 0.98)\n",
    "zstates_old = zs_old.create(scaledparams, x, y, cmax, nvar, 0.98)"
   ]
  },
  {
   "cell_type": "code",
   "execution_count": 13,
   "metadata": {
    "collapsed": false
   },
   "outputs": [
    {
     "name": "stdout",
     "output_type": "stream",
     "text": [
      "Log marginal likelihood from full calculation: -430.966379\n",
      "Calculated in 0.817035 seconds ---\n",
      "\n",
      "Log marginal likelihood from fast calculation: -430.967862\n",
      "Calculated in 0.332323 seconds ---\n",
      "\n",
      "Log marginal likelihood using old method of zstates: -430.967862\n",
      "Calculated in 0.318556 seconds ---\n",
      "\n"
     ]
    }
   ],
   "source": [
    "params = np.array([0.00495222, 0, 0.48975, 0.0680367, 1 / 0.00001 / 0.00001])\n",
    "scaledparams = hyperparameters.scale(params)\n",
    "\n",
    "start_time = time.time()\n",
    "l, m = log_marginal_likelihood.full(scaledparams, x, y, zstates_old)\n",
    "print (\"Log marginal likelihood from full calculation: {:f}\".format(m))\n",
    "print(\"Calculated in {:f} seconds ---\\n\".format(time.time() - start_time))\n",
    "\n",
    "start_time = time.time()\n",
    "m = log_marginal_likelihood.func(scaledparams, x, y, zstates_old)\n",
    "print (\"Log marginal likelihood from fast calculation: {:f}\".format(m))\n",
    "print(\"Calculated in {:f} seconds ---\\n\".format(time.time() - start_time))\n",
    "\n",
    "start_time = time.time()\n",
    "m = log_marginal_likelihood.func(scaledparams, x, y, zstates_old)\n",
    "print (\"Log marginal likelihood using old method of zstates: {:f}\".format(m))\n",
    "print(\"Calculated in {:f} seconds ---\\n\".format(time.time() - start_time))"
   ]
  },
  {
   "cell_type": "code",
   "execution_count": 11,
   "metadata": {
    "collapsed": false
   },
   "outputs": [
    {
     "name": "stdout",
     "output_type": "stream",
     "text": [
      "Derivative of pi by brute force is -0.009548\n",
      "Derivative of pi from equation is -0.009553\n",
      "Derivative of mu by brute force is 0.001490\n",
      "Derivative of mu from equation is 0.018144\n",
      "Derivative of sigma by brute force is 0.196883\n",
      "Derivative of sigma from equation is 0.210364\n",
      "Derivative of sigbg by brute force is 79.603716\n",
      "Derivative of sigbg from equation is 79.601830\n",
      "Derivative of tau by brute force is 94.868723\n",
      "Derivative of tau from equation is 94.830137\n"
     ]
    }
   ],
   "source": [
    "zstates = zstates_new\n",
    "#params = np.array([0.01, 0.1, 0.0003, 1.0, 1 / 0.5 / 0.5])\n",
    "params = np.array([0.00495222, 0, 0.48975, 0.0680367, 1 / 0.0001 / 0.0001])\n",
    "scaledparams = hyperparameters.scale(params)\n",
    "m, der = log_marginal_likelihood.func_grad(scaledparams, x, y, zstates)\n",
    "\n",
    "# Derivative of pi\n",
    "delta = 0.00001\n",
    "newparams = hyperparameters.scale(params)\n",
    "newparams[0] += delta\n",
    "newm = log_marginal_likelihood.func(newparams, x, y, zstates)\n",
    "pi_grad = (newm - m) / delta\n",
    "print (\"Derivative of pi by brute force is {:f}\".format(pi_grad))\n",
    "print (\"Derivative of pi from equation is {:f}\".format(der[0]))\n",
    "\n",
    "# Derivative of mu\n",
    "delta = 0.00001\n",
    "newparams = hyperparameters.scale(params)\n",
    "newparams[1] += delta\n",
    "newm = log_marginal_likelihood.func(newparams, x, y, zstates)\n",
    "mu_grad = (newm - m) / delta\n",
    "print (\"Derivative of mu by brute force is {:f}\".format(mu_grad))\n",
    "print (\"Derivative of mu from equation is {:f}\".format(der[1]))\n",
    "\n",
    "# Derivative of sigma\n",
    "delta = 0.0001\n",
    "newparams = hyperparameters.scale(params)\n",
    "newparams[2] += delta\n",
    "newm = log_marginal_likelihood.func(newparams, x, y, zstates)\n",
    "sigma_grad = (newm - m) / delta\n",
    "print (\"Derivative of sigma by brute force is {:f}\".format(sigma_grad))\n",
    "print (\"Derivative of sigma from equation is {:f}\".format(der[2]))\n",
    "\n",
    "# Derivative of sigbg\n",
    "delta = 0.0001\n",
    "newparams = hyperparameters.scale(params)\n",
    "newparams[3] += delta\n",
    "newm = log_marginal_likelihood.func(newparams, x, y, zstates)\n",
    "sigbg_grad = (newm - m) / delta\n",
    "print (\"Derivative of sigbg by brute force is {:f}\".format(sigbg_grad))\n",
    "print (\"Derivative of sigbg from equation is {:f}\".format(der[3]))\n",
    "\n",
    "# Derivative of tau\n",
    "delta = 0.0001\n",
    "newparams = hyperparameters.scale(params)\n",
    "newparams[4] += delta\n",
    "newm = log_marginal_likelihood.func(newparams, x, y, zstates)\n",
    "tau_grad = (newm - m) / delta\n",
    "print (\"Derivative of tau by brute force is {:f}\".format(tau_grad))\n",
    "print (\"Derivative of tau from equation is {:f}\".format(der[4]))"
   ]
  },
  {
   "cell_type": "code",
   "execution_count": 9,
   "metadata": {
    "collapsed": false
   },
   "outputs": [
    {
     "name": "stdout",
     "output_type": "stream",
     "text": [
      "Derivative of pi by brute force is -0.009060\n",
      "Derivative of pi from equation is -0.009553\n",
      "Derivative of mu by brute force is -0.012637\n",
      "Derivative of mu from equation is 0.018142\n",
      "Derivative of sigma by brute force is -0.066771\n",
      "Derivative of sigma from equation is 0.210604\n",
      "Derivative of sigbg by brute force is 78.733853\n",
      "Derivative of sigbg from equation is 79.589405\n",
      "Derivative of tau by brute force is -418.218781\n",
      "Derivative of tau from equation is -416.986437\n"
     ]
    }
   ],
   "source": [
    "zstates = zstates_old\n",
    "#params = np.array([0.01, 0.1, 0.0003, 1.0, 1 / 0.5 / 0.5])\n",
    "#params = np.array([0.00495222, 0, 0.48975, 0.0680367, 1 / 2.59463e-05 / 2.59463e-05])\n",
    "params = np.array([0.00495222, 0, 0.48975, 0.0680367, 1 / 0.00001 / 0.00001])\n",
    "scaledparams = hyperparameters.scale(params)\n",
    "m, der = log_marginal_likelihood.func_grad(scaledparams, x, y, zstates)\n",
    "\n",
    "delta = 0.001\n",
    "\n",
    "# Derivative of pi\n",
    "newparams = hyperparameters.scale(params)\n",
    "newparams[0] += delta\n",
    "newm = log_marginal_likelihood.func(newparams, x, y, zstates)\n",
    "pi_grad = (newm - m) / delta\n",
    "print (\"Derivative of pi by brute force is {:f}\".format(pi_grad))\n",
    "print (\"Derivative of pi from equation is {:f}\".format(der[0]))\n",
    "\n",
    "# Derivative of mu\n",
    "newparams = hyperparameters.scale(params)\n",
    "newparams[1] += delta\n",
    "newm = log_marginal_likelihood.func(newparams, x, y, zstates)\n",
    "mu_grad = (newm - m) / delta\n",
    "print (\"Derivative of mu by brute force is {:f}\".format(mu_grad))\n",
    "print (\"Derivative of mu from equation is {:f}\".format(der[1]))\n",
    "\n",
    "# Derivative of sigma\n",
    "newparams = hyperparameters.scale(params)\n",
    "newparams[2] += delta\n",
    "newm = log_marginal_likelihood.func(newparams, x, y, zstates)\n",
    "sigma_grad = (newm - m) / delta\n",
    "print (\"Derivative of sigma by brute force is {:f}\".format(sigma_grad))\n",
    "print (\"Derivative of sigma from equation is {:f}\".format(der[2]))\n",
    "\n",
    "# Derivative of sigbg\n",
    "newparams = hyperparameters.scale(params)\n",
    "newparams[3] += delta\n",
    "newm = log_marginal_likelihood.func(newparams, x, y, zstates)\n",
    "sigbg_grad = (newm - m) / delta\n",
    "print (\"Derivative of sigbg by brute force is {:f}\".format(sigbg_grad))\n",
    "print (\"Derivative of sigbg from equation is {:f}\".format(der[3]))\n",
    "\n",
    "# Derivative of tau\n",
    "newparams = hyperparameters.scale(params)\n",
    "newparams[4] += delta\n",
    "#newm = log_marginal_likelihood.func(newparams, x, y, zstates)\n",
    "dummy, newm = log_marginal_likelihood.full(newparams, x, y, zstates)\n",
    "tau_grad = (newm - m) / delta\n",
    "print (\"Derivative of tau by brute force is {:f}\".format(tau_grad))\n",
    "print (\"Derivative of tau from equation is {:f}\".format(der[4]))"
   ]
  },
  {
   "cell_type": "code",
   "execution_count": 10,
   "metadata": {
    "collapsed": false
   },
   "outputs": [
    {
     "name": "stdout",
     "output_type": "stream",
     "text": [
      "Derivative of tau by brute force is -427.936562\n",
      "Derivative of tau from equation is -416.986437\n"
     ]
    }
   ],
   "source": [
    "# Derivative of tau\n",
    "delta = 0.0001\n",
    "newparams = hyperparameters.scale(params)\n",
    "newparams[4] += delta\n",
    "m = log_marginal_likelihood.func(hyperparameters.scale(params), x, y, zstates)\n",
    "newm = log_marginal_likelihood.func(newparams, x, y, zstates)\n",
    "#dummy, newm = log_marginal_likelihood.full(newparams, x, y, zstates)\n",
    "tau_grad = (newm - m) / delta\n",
    "print (\"Derivative of tau by brute force is {:f}\".format(tau_grad))\n",
    "print (\"Derivative of tau from equation is {:f}\".format(der[4]))"
   ]
  },
  {
   "cell_type": "code",
   "execution_count": 42,
   "metadata": {
    "collapsed": false
   },
   "outputs": [
    {
     "data": {
      "text/plain": [
       "array([ -5.3029548 ,   0.        ,  -0.71386022,  -2.68770801, -11.51282546])"
      ]
     },
     "execution_count": 42,
     "metadata": {},
     "output_type": "execute_result"
    }
   ],
   "source": [
    "newparams"
   ]
  },
  {
   "cell_type": "code",
   "execution_count": 38,
   "metadata": {
    "collapsed": false
   },
   "outputs": [
    {
     "data": {
      "text/plain": [
       "array([ -5.3029548 ,   0.        ,  -0.71386022,  -2.68770801, -11.51292546])"
      ]
     },
     "execution_count": 38,
     "metadata": {},
     "output_type": "execute_result"
    }
   ],
   "source": [
    "hyperparameters.scale(params)"
   ]
  },
  {
   "cell_type": "code",
   "execution_count": null,
   "metadata": {
    "collapsed": true
   },
   "outputs": [],
   "source": []
  }
 ],
 "metadata": {
  "kernelspec": {
   "display_name": "Python 3",
   "language": "python",
   "name": "python3"
  },
  "language_info": {
   "codemirror_mode": {
    "name": "ipython",
    "version": 3
   },
   "file_extension": ".py",
   "mimetype": "text/x-python",
   "name": "python",
   "nbconvert_exporter": "python",
   "pygments_lexer": "ipython3",
   "version": "3.6.0"
  }
 },
 "nbformat": 4,
 "nbformat_minor": 2
}
