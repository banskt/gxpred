{
 "cells": [
  {
   "cell_type": "code",
   "execution_count": 102,
   "metadata": {},
   "outputs": [
    {
     "data": {
      "text/plain": [
       "array([[ 393.27100775,   -7.42005385,   -5.43073823,   -7.19041717],\n",
       "       [  -7.42005385,  391.80616437,   -5.99652437,   -7.9296528 ],\n",
       "       [  -5.43073823,   -5.99652437,  395.60919794,   -5.80459659],\n",
       "       [  -7.19041717,   -7.9296528 ,   -5.80459659,  392.31451963]])"
      ]
     },
     "execution_count": 102,
     "metadata": {},
     "output_type": "execute_result"
    }
   ],
   "source": [
    "import numpy as np\n",
    "\n",
    "x = np.random.rand(16).reshape(4,4)\n",
    "sigz0 = np.array([0.0000001] * 4)\n",
    "sigz2 = sigz0\n",
    "sigz2[1] = 0.0001\n",
    "tau = 1 / (0.05 * 0.05)\n",
    "S = np.identity(4) * (1/tau) + np.dot(np.dot(x.T, np.diag(sigz2)), x)\n",
    "np.linalg.inv(S)"
   ]
  },
  {
   "cell_type": "code",
   "execution_count": 103,
   "metadata": {},
   "outputs": [
    {
     "data": {
      "text/plain": [
       "array([[ 393.26746863,   -7.4239619 ,   -5.43359976,   -7.19420155],\n",
       "       [  -7.4239619 ,  391.80184893,   -5.99968419,   -7.93383168],\n",
       "       [  -5.43359976,   -5.99968419,  395.60688427,   -5.80765643],\n",
       "       [  -7.19420155,   -7.93383168,   -5.80765643,  392.31047299]])"
      ]
     },
     "execution_count": 103,
     "metadata": {},
     "output_type": "execute_result"
    }
   ],
   "source": [
    "B0 = np.linalg.inv(np.diag(sigz0)) + tau * np.dot(x, x.T)\n",
    "B0inv = np.linalg.inv(B0)\n",
    "\n",
    "zpos = 1\n",
    "h = 1/0.23 - 1/0.1\n",
    "hmod = h / (1 + h * B0inv[zpos, zpos])\n",
    "B1inv = B0inv - hmod * np.einsum('i, j -> ij', B0inv[:,zpos], B0inv[zpos,:])\n",
    "Sinv = - tau * tau * np.einsum('li, lk, kj -> ij', x, B1inv, x)\n",
    "Sinv[np.diag_indices_from(C)] += tau\n",
    "Sinv"
   ]
  },
  {
   "cell_type": "code",
   "execution_count": 104,
   "metadata": {},
   "outputs": [
    {
     "data": {
      "text/plain": [
       "-23.895976528673803"
      ]
     },
     "execution_count": 104,
     "metadata": {},
     "output_type": "execute_result"
    }
   ],
   "source": [
    "np.linalg.slogdet(S)[1]"
   ]
  },
  {
   "cell_type": "code",
   "execution_count": 106,
   "metadata": {},
   "outputs": [
    {
     "data": {
      "text/plain": [
       "-23.896503796843177"
      ]
     },
     "execution_count": 106,
     "metadata": {},
     "output_type": "execute_result"
    }
   ],
   "source": [
    "logB0det = np.linalg.slogdet(B0)[1]\n",
    "logB1det = - 4 * np.log(tau) + 3 * np.log(0.0000001) + np.log(0.0001) +  np.log(1 + h * B0inv[zpos, zpos]) + logB0det\n",
    "logB1det"
   ]
  },
  {
   "cell_type": "code",
   "execution_count": 81,
   "metadata": {},
   "outputs": [
    {
     "data": {
      "text/plain": [
       "27514.047855084824"
      ]
     },
     "execution_count": 81,
     "metadata": {},
     "output_type": "execute_result"
    }
   ],
   "source": [
    "np.linalg.det(B1)"
   ]
  },
  {
   "cell_type": "code",
   "execution_count": 92,
   "metadata": {},
   "outputs": [
    {
     "data": {
      "text/plain": [
       "27514.047855084817"
      ]
     },
     "execution_count": 92,
     "metadata": {},
     "output_type": "execute_result"
    }
   ],
   "source": [
    "(1 + h * B0inv[zpos, zpos]) * np.linalg.det(B0)"
   ]
  },
  {
   "cell_type": "code",
   "execution_count": 83,
   "metadata": {},
   "outputs": [
    {
     "data": {
      "text/plain": [
       "array([[ 1.        ,  0.        ,  0.        ,  0.        ],\n",
       "       [ 0.02984874,  0.58637269,  0.12541157,  0.11996531],\n",
       "       [ 0.        ,  0.        ,  1.        ,  0.        ],\n",
       "       [ 0.        ,  0.        ,  0.        ,  1.        ]])"
      ]
     },
     "execution_count": 83,
     "metadata": {},
     "output_type": "execute_result"
    }
   ],
   "source": [
    "C"
   ]
  },
  {
   "cell_type": "code",
   "execution_count": 84,
   "metadata": {},
   "outputs": [
    {
     "data": {
      "text/plain": [
       "0.58637268514094787"
      ]
     },
     "execution_count": 84,
     "metadata": {},
     "output_type": "execute_result"
    }
   ],
   "source": [
    "np.linalg.det(C)"
   ]
  },
  {
   "cell_type": "code",
   "execution_count": 85,
   "metadata": {},
   "outputs": [
    {
     "data": {
      "text/plain": [
       "0.58637268514094787"
      ]
     },
     "execution_count": 85,
     "metadata": {},
     "output_type": "execute_result"
    }
   ],
   "source": [
    "C[1,1]"
   ]
  },
  {
   "cell_type": "code",
   "execution_count": 90,
   "metadata": {},
   "outputs": [
    {
     "data": {
      "text/plain": [
       "0.58637268514094787"
      ]
     },
     "execution_count": 90,
     "metadata": {},
     "output_type": "execute_result"
    }
   ],
   "source": [
    "1 + h * B0inv[zpos, zpos]"
   ]
  },
  {
   "cell_type": "code",
   "execution_count": null,
   "metadata": {
    "collapsed": true
   },
   "outputs": [],
   "source": []
  }
 ],
 "metadata": {
  "kernelspec": {
   "display_name": "Python 3",
   "language": "python",
   "name": "python3"
  },
  "language_info": {
   "codemirror_mode": {
    "name": "ipython",
    "version": 3
   },
   "file_extension": ".py",
   "mimetype": "text/x-python",
   "name": "python",
   "nbconvert_exporter": "python",
   "pygments_lexer": "ipython3",
   "version": "3.6.1"
  }
 },
 "nbformat": 4,
 "nbformat_minor": 2
}
