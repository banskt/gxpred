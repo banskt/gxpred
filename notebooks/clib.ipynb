{
 "cells": [
  {
   "cell_type": "code",
   "execution_count": 1,
   "metadata": {
    "collapsed": true
   },
   "outputs": [],
   "source": [
    "import sys\n",
    "sys.path.append(\"../\")\n",
    "\n",
    "import numpy as np\n",
    "import time\n",
    "import os\n",
    "import ctypes"
   ]
  },
  {
   "cell_type": "code",
   "execution_count": 2,
   "metadata": {},
   "outputs": [],
   "source": [
    "_path = os.getcwd()\n",
    "lib = np.ctypeslib.load_library('../lib/trial.so', _path)\n",
    "cxtbx = lib.xTBx\n",
    "cxtbx.restype  = ctypes.c_int\n",
    "cxtbx.argtypes = [ctypes.c_int,\n",
    "                  ctypes.c_int,\n",
    "                  ctypes.c_double,\n",
    "                  np.ctypeslib.ndpointer(ctypes.c_double, ndim=1, flags='C_CONTIGUOUS, ALIGNED'),\n",
    "                  np.ctypeslib.ndpointer(ctypes.c_double, ndim=1, flags='C_CONTIGUOUS, ALIGNED'),\n",
    "                  np.ctypeslib.ndpointer(ctypes.c_double, ndim=1, flags='C_CONTIGUOUS, ALIGNED')]"
   ]
  },
  {
   "cell_type": "code",
   "execution_count": 3,
   "metadata": {},
   "outputs": [
    {
     "data": {
      "text/plain": [
       "array([[ 1.60851195,  0.97178857,  1.9500249 ,  2.10651045,  2.51152474,\n",
       "         1.7679169 ],\n",
       "       [ 0.77549115,  0.47865407,  0.94233361,  1.02929737,  1.19366188,\n",
       "         0.86624038],\n",
       "       [ 1.61852263,  0.93521952,  1.84709586,  2.07247391,  2.29014617,\n",
       "         1.76682764],\n",
       "       [ 1.84616528,  1.0246578 ,  2.05302412,  2.31945414,  2.54479811,\n",
       "         1.98522826],\n",
       "       [ 2.0234954 ,  1.18413078,  2.31295624,  2.60309091,  2.84739029,\n",
       "         2.22105509],\n",
       "       [ 1.60176492,  0.89200903,  1.79524963,  2.01621254,  2.24077576,\n",
       "         1.7217672 ]])"
      ]
     },
     "execution_count": 3,
     "metadata": {},
     "output_type": "execute_result"
    }
   ],
   "source": [
    "x = np.random.rand(24).reshape(4, 6)\n",
    "B = np.random.rand(16).reshape(4, 4)\n",
    "np.dot(x.T, np.dot(B, x))"
   ]
  },
  {
   "cell_type": "code",
   "execution_count": 4,
   "metadata": {},
   "outputs": [
    {
     "name": "stdout",
     "output_type": "stream",
     "text": [
      "[ 0.  0.  0.  0.  0.  0.  0.  0.  0.  0.  0.  0.  0.  0.  0.  0.  0.  0.\n",
      "  0.  0.  0.  0.  0.  0.  0.  0.  0.  0.  0.  0.  0.  0.  0.  0.  0.  0.]\n"
     ]
    },
    {
     "data": {
      "text/plain": [
       "array([[ 1.60851195,  0.97178857,  1.9500249 ,  2.10651045,  2.51152474,\n",
       "         1.7679169 ],\n",
       "       [ 0.77549115,  0.47865407,  0.94233361,  1.02929737,  1.19366188,\n",
       "         0.86624038],\n",
       "       [ 1.61852263,  0.93521952,  1.84709586,  2.07247391,  2.29014617,\n",
       "         1.76682764],\n",
       "       [ 1.84616528,  1.0246578 ,  2.05302412,  2.31945414,  2.54479811,\n",
       "         1.98522826],\n",
       "       [ 2.0234954 ,  1.18413078,  2.31295624,  2.60309091,  2.84739029,\n",
       "         2.22105509],\n",
       "       [ 1.60176492,  0.89200903,  1.79524963,  2.01621254,  2.24077576,\n",
       "         1.7217672 ]])"
      ]
     },
     "execution_count": 4,
     "metadata": {},
     "output_type": "execute_result"
    }
   ],
   "source": [
    "nrowA  = x.shape[0]\n",
    "ncolA  = x.shape[1]\n",
    "nrowB  = B.shape[0]\n",
    "ncolB  = B.shape[1]\n",
    "C = np.zeros(ncolA * ncolA)\n",
    "print(C)\n",
    "success = cxtbx(nrowA, ncolA, 1.0, x.reshape(-1,), B.reshape(-1,), C)\n",
    "C.reshape(ncolA, ncolA)"
   ]
  },
  {
   "cell_type": "code",
   "execution_count": 5,
   "metadata": {},
   "outputs": [],
   "source": [
    "cinv = lib.matloginv\n",
    "cinv.restype = ctypes.c_double\n",
    "cinv.argtypes = [ctypes.c_int,\n",
    "                 np.ctypeslib.ndpointer(ctypes.c_double, ndim=1, flags='C_CONTIGUOUS, ALIGNED')]"
   ]
  },
  {
   "cell_type": "code",
   "execution_count": 6,
   "metadata": {},
   "outputs": [
    {
     "data": {
      "text/plain": [
       "array([[ 2.8805317 ,  1.55539876,  2.82170139,  1.18823801,  2.12356452,\n",
       "         2.62351024,  1.11599178,  2.60105646,  2.11883332,  2.24191602],\n",
       "       [ 1.55539876,  1.50575531,  1.40397564,  0.98168949,  1.58367671,\n",
       "         2.08215347,  1.13177415,  1.93089844,  1.86349851,  1.56879875],\n",
       "       [ 2.82170139,  1.40397564,  3.87951871,  1.44583941,  2.68888515,\n",
       "         3.19050929,  1.77493283,  2.66232072,  2.41472686,  3.30226789],\n",
       "       [ 1.18823801,  0.98168949,  1.44583941,  1.02218375,  1.39992392,\n",
       "         1.74044662,  1.12900675,  1.47800745,  1.44322235,  1.82792187],\n",
       "       [ 2.12356452,  1.58367671,  2.68888515,  1.39992392,  3.36543685,\n",
       "         3.41469017,  1.35139525,  2.71886334,  2.20445072,  2.86344595],\n",
       "       [ 2.62351024,  2.08215347,  3.19050929,  1.74044662,  3.41469017,\n",
       "         3.97263037,  2.00333352,  3.24636668,  3.00452051,  3.40132552],\n",
       "       [ 1.11599178,  1.13177415,  1.77493283,  1.12900675,  1.35139525,\n",
       "         2.00333352,  1.75274486,  1.63042742,  1.78985148,  2.14185287],\n",
       "       [ 2.60105646,  1.93089844,  2.66232072,  1.47800745,  2.71886334,\n",
       "         3.24636668,  1.63042742,  3.44430968,  2.81996369,  2.9522727 ],\n",
       "       [ 2.11883332,  1.86349851,  2.41472686,  1.44322235,  2.20445072,\n",
       "         3.00452051,  1.78985148,  2.81996369,  3.1196001 ,  2.94682159],\n",
       "       [ 2.24191602,  1.56879875,  3.30226789,  1.82792187,  2.86344595,\n",
       "         3.40132552,  2.14185287,  2.9522727 ,  2.94682159,  4.03024147]])"
      ]
     },
     "execution_count": 6,
     "metadata": {},
     "output_type": "execute_result"
    }
   ],
   "source": [
    "matrixSize = 10 \n",
    "D = np.random.rand(matrixSize,matrixSize)\n",
    "Dcov = np.dot(D, D.transpose())\n",
    "Dcov"
   ]
  },
  {
   "cell_type": "code",
   "execution_count": 7,
   "metadata": {},
   "outputs": [
    {
     "data": {
      "text/plain": [
       "27.310322413640282"
      ]
     },
     "execution_count": 7,
     "metadata": {},
     "output_type": "execute_result"
    }
   ],
   "source": [
    "res = Dcov.T.reshape(-1, )\n",
    "logdet = cinv(matrixSize, res)\n",
    "res.reshape(matrixSize, matrixSize).T[5, 2]"
   ]
  },
  {
   "cell_type": "code",
   "execution_count": 8,
   "metadata": {},
   "outputs": [
    {
     "data": {
      "text/plain": [
       "-11.318059678151315"
      ]
     },
     "execution_count": 8,
     "metadata": {},
     "output_type": "execute_result"
    }
   ],
   "source": [
    "logdet"
   ]
  },
  {
   "cell_type": "code",
   "execution_count": 9,
   "metadata": {},
   "outputs": [
    {
     "data": {
      "text/plain": [
       "27.310322413639863"
      ]
     },
     "execution_count": 9,
     "metadata": {},
     "output_type": "execute_result"
    }
   ],
   "source": [
    "np.linalg.inv(Dcov)[5, 2]"
   ]
  },
  {
   "cell_type": "code",
   "execution_count": 10,
   "metadata": {},
   "outputs": [
    {
     "data": {
      "text/plain": [
       "(1.0, -11.318059678151315)"
      ]
     },
     "execution_count": 10,
     "metadata": {},
     "output_type": "execute_result"
    }
   ],
   "source": [
    "np.linalg.slogdet(Dcov)"
   ]
  },
  {
   "cell_type": "code",
   "execution_count": null,
   "metadata": {
    "collapsed": true
   },
   "outputs": [],
   "source": []
  }
 ],
 "metadata": {
  "kernelspec": {
   "display_name": "Python 3",
   "language": "python",
   "name": "python3"
  },
  "language_info": {
   "codemirror_mode": {
    "name": "ipython",
    "version": 3
   },
   "file_extension": ".py",
   "mimetype": "text/x-python",
   "name": "python",
   "nbconvert_exporter": "python",
   "pygments_lexer": "ipython3",
   "version": "3.6.1"
  }
 },
 "nbformat": 4,
 "nbformat_minor": 2
}
