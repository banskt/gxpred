{
 "cells": [
  {
   "cell_type": "code",
   "execution_count": 1,
   "metadata": {
    "collapsed": true
   },
   "outputs": [],
   "source": [
    "import sys\n",
    "sys.path.append(\"../\")\n",
    "\n",
    "import numpy as np\n",
    "import time\n",
    "from utils import model\n",
    "from inference import log_marginal_likelihood\n",
    "from inference import zstates as zs\n",
    "from inference import zstates_old_method as zs_old\n",
    "from utils import hyperparameters\n",
    "\n",
    "#_path = os.path.dirname(__file__)\n",
    "import os\n",
    "import ctypes\n",
    "\n",
    "_path = os.getcwd()\n",
    "lib = np.ctypeslib.load_library('../lib/margloglik.so', _path)\n",
    "czcomps = lib.logmarglik\n",
    "czcomps.restype = ctypes.c_double\n",
    "czcomps.argtypes = [ctypes.c_int,\n",
    "                    ctypes.c_int,\n",
    "                    ctypes.c_int,\n",
    "                    ctypes.c_double,\n",
    "                    ctypes.c_double,\n",
    "                    ctypes.c_double,\n",
    "                    ctypes.c_double,\n",
    "                    ctypes.c_double,\n",
    "                    ctypes.c_bool,\n",
    "                    np.ctypeslib.ndpointer(ctypes.c_int, flags='C_CONTIGUOUS, ALIGNED'),\n",
    "                    np.ctypeslib.ndpointer(ctypes.c_int, flags='C_CONTIGUOUS, ALIGNED'),\n",
    "                    np.ctypeslib.ndpointer(ctypes.c_double, ndim=1, flags='C_CONTIGUOUS, ALIGNED'),\n",
    "                    np.ctypeslib.ndpointer(ctypes.c_double, ndim=1, flags='C_CONTIGUOUS, ALIGNED'),\n",
    "                    np.ctypeslib.ndpointer(ctypes.c_double, ndim=1, flags='C_CONTIGUOUS, ALIGNED'),\n",
    "                    np.ctypeslib.ndpointer(ctypes.c_double, ndim=1, flags='C_CONTIGUOUS, ALIGNED')\n",
    "                   ]"
   ]
  },
  {
   "cell_type": "code",
   "execution_count": 9,
   "metadata": {
    "collapsed": true
   },
   "outputs": [],
   "source": [
    "pi = 0.1\n",
    "mu = 0.1\n",
    "sigmabg = 0.001\n",
    "sigma = 0.1\n",
    "tau = 1 / (0.005 * 0.005)\n",
    "\n",
    "x, y, csnps, v = model.simulate(pi = pi,\n",
    "                             mu = mu,\n",
    "                             sigma = sigma,\n",
    "                             sigmabg = sigmabg,\n",
    "                             tau = tau)\n",
    "\n",
    "nvar = x.shape[0]\n",
    "nsample = x.shape[1]\n",
    "params = np.array([pi, mu, sigma, sigmabg, tau])\n",
    "scaledparams = hyperparameters.scale(params)\n",
    "cmax = 2\n",
    "zstates_new = zs.create(scaledparams, x, y, cmax, nvar, 0.98)\n",
    "zstates_old = zs_old.create(scaledparams, x, y, cmax, nvar, 0.98)\n",
    "zstates = zstates_old"
   ]
  },
  {
   "cell_type": "code",
   "execution_count": 14,
   "metadata": {
    "collapsed": false
   },
   "outputs": [
    {
     "name": "stdout",
     "output_type": "stream",
     "text": [
      "Log marginal likelihood from python calculation: -609.479774\n",
      "Derivatives: 0.425969 -0.002273 0.518146 164.055325 94.146145\n",
      "Calculated in 3.147449 seconds ---\n",
      "\n"
     ]
    }
   ],
   "source": [
    "params = np.array([0.00495222, 0.1, 0.48975, 0.0680367, 1 / 0.0001 / 0.0001])\n",
    "scaledparams = hyperparameters.scale(params)\n",
    "\n",
    "start_time = time.time()\n",
    "m, der = log_marginal_likelihood.func_grad(scaledparams, x, y, zstates_old)\n",
    "print (\"Log marginal likelihood from python calculation: {:f}\".format(m))\n",
    "print (\"Derivatives: {:f} {:f} {:f} {:f} {:f}\".format(der[0], der[1], der[2], der[3], der[4]))\n",
    "print(\"Calculated in {:f} seconds ---\\n\".format(time.time() - start_time))"
   ]
  },
  {
   "cell_type": "code",
   "execution_count": 15,
   "metadata": {
    "collapsed": false
   },
   "outputs": [
    {
     "name": "stdout",
     "output_type": "stream",
     "text": [
      "Log marginal likelihood from python calculation: 609.479769\n",
      "Derivatives: -0.425968 0.002273 -0.518147 -164.055337 -94.146145\n",
      "Calculated in 1.976441 seconds ---\n",
      "\n"
     ]
    }
   ],
   "source": [
    "start_time = time.time()\n",
    "zlen = len(zstates)\n",
    "zarr = np.array([item for sublist in zstates for item in sublist], dtype=np.int32)\n",
    "znorm = np.array([len(sublist) for sublist in zstates], dtype=np.int32)\n",
    "\n",
    "zcomps = np.zeros(zlen)\n",
    "grad = np.zeros(5)\n",
    "\n",
    "logmarglik = czcomps(nvar, nsample, zlen, params[0], params[1], params[2], params[3], params[4],\n",
    "                     True, zarr, znorm, x.reshape(-1,), y.reshape(-1,), zcomps, grad)\n",
    "grad = hyperparameters.gradscale(params, grad)\n",
    "print (\"Log marginal likelihood from python calculation: {:f}\".format(logmarglik))\n",
    "print (\"Derivatives: {:f} {:f} {:f} {:f} {:f}\".format(grad[0], grad[1], grad[2], grad[3], grad[4]))\n",
    "print(\"Calculated in {:f} seconds ---\\n\".format(time.time() - start_time))"
   ]
  },
  {
   "cell_type": "code",
   "execution_count": null,
   "metadata": {
    "collapsed": true
   },
   "outputs": [],
   "source": []
  }
 ],
 "metadata": {
  "kernelspec": {
   "display_name": "Python 3",
   "language": "python",
   "name": "python3"
  },
  "language_info": {
   "codemirror_mode": {
    "name": "ipython",
    "version": 3
   },
   "file_extension": ".py",
   "mimetype": "text/x-python",
   "name": "python",
   "nbconvert_exporter": "python",
   "pygments_lexer": "ipython3",
   "version": "3.6.0"
  }
 },
 "nbformat": 4,
 "nbformat_minor": 2
}
