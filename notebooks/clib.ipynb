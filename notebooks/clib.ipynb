{
 "cells": [
  {
   "cell_type": "code",
   "execution_count": 1,
   "metadata": {
    "collapsed": true
   },
   "outputs": [],
   "source": [
    "import sys\n",
    "sys.path.append(\"../\")\n",
    "\n",
    "import numpy as np\n",
    "import time\n",
    "import os\n",
    "import ctypes"
   ]
  },
  {
   "cell_type": "code",
   "execution_count": 2,
   "metadata": {
    "collapsed": true
   },
   "outputs": [],
   "source": [
    "_path = os.getcwd()\n",
    "lib = np.ctypeslib.load_library('../lib/trial.so', _path)\n",
    "cxtbx = lib.xTBx\n",
    "cxtbx.restype  = ctypes.c_int\n",
    "cxtbx.argtypes = [ctypes.c_int,\n",
    "                  ctypes.c_int,\n",
    "                  ctypes.c_double,\n",
    "                  np.ctypeslib.ndpointer(ctypes.c_double, ndim=1, flags='C_CONTIGUOUS, ALIGNED'),\n",
    "                  np.ctypeslib.ndpointer(ctypes.c_double, ndim=1, flags='C_CONTIGUOUS, ALIGNED'),\n",
    "                  np.ctypeslib.ndpointer(ctypes.c_double, ndim=1, flags='C_CONTIGUOUS, ALIGNED')]"
   ]
  },
  {
   "cell_type": "code",
   "execution_count": null,
   "metadata": {
    "collapsed": false
   },
   "outputs": [],
   "source": [
    "x = np.random.rand(24).reshape(4, 6)\n",
    "B = np.random.rand(16).reshape(4, 4)\n",
    "np.dot(x.T, np.dot(B, x))"
   ]
  },
  {
   "cell_type": "code",
   "execution_count": null,
   "metadata": {
    "collapsed": false
   },
   "outputs": [],
   "source": [
    "nrowA  = x.shape[0]\n",
    "ncolA  = x.shape[1]\n",
    "nrowB  = B.shape[0]\n",
    "ncolB  = B.shape[1]\n",
    "C = np.zeros(ncolA * ncolA)\n",
    "print(C)\n",
    "success = cxtbx(nrowA, ncolA, 1.0, x.reshape(-1,), B.reshape(-1,), C)\n",
    "C.reshape(ncolA, ncolA)"
   ]
  },
  {
   "cell_type": "code",
   "execution_count": 3,
   "metadata": {
    "collapsed": true
   },
   "outputs": [],
   "source": [
    "cinv = lib.matloginv\n",
    "cinv.restype = ctypes.c_double\n",
    "cinv.argtypes = [ctypes.c_int,\n",
    "                 np.ctypeslib.ndpointer(ctypes.c_double, ndim=1, flags='C_CONTIGUOUS, ALIGNED')]"
   ]
  },
  {
   "cell_type": "code",
   "execution_count": 4,
   "metadata": {
    "collapsed": false
   },
   "outputs": [
    {
     "data": {
      "text/plain": [
       "array([[ 3.51145054,  1.93337301,  3.08437271,  3.21657525,  2.24493976,\n",
       "         2.03348491,  2.01985014,  2.25057503,  1.88203794,  2.47189908],\n",
       "       [ 1.93337301,  2.15163776,  1.85753612,  2.31859026,  1.20664346,\n",
       "         1.22710649,  1.48782284,  1.34494798,  1.35621686,  2.49551264],\n",
       "       [ 3.08437271,  1.85753612,  4.15976846,  4.09701921,  2.33504546,\n",
       "         2.18474252,  2.59208648,  2.68471038,  2.00332419,  2.90630012],\n",
       "       [ 3.21657525,  2.31859026,  4.09701921,  4.96398264,  2.37945627,\n",
       "         2.30132786,  3.21929126,  3.1064809 ,  2.1451942 ,  3.95500974],\n",
       "       [ 2.24493976,  1.20664346,  2.33504546,  2.37945627,  2.07588534,\n",
       "         1.60899574,  1.71604475,  1.94094285,  1.36923793,  1.95740825],\n",
       "       [ 2.03348491,  1.22710649,  2.18474252,  2.30132786,  1.60899574,\n",
       "         2.43089651,  1.9573725 ,  2.30639638,  0.77023814,  2.57249635],\n",
       "       [ 2.01985014,  1.48782284,  2.59208648,  3.21929126,  1.71604475,\n",
       "         1.9573725 ,  2.43319232,  2.36841216,  1.33429064,  2.95598885],\n",
       "       [ 2.25057503,  1.34494798,  2.68471038,  3.1064809 ,  1.94094285,\n",
       "         2.30639638,  2.36841216,  2.85649754,  0.96155124,  2.92757725],\n",
       "       [ 1.88203794,  1.35621686,  2.00332419,  2.1451942 ,  1.36923793,\n",
       "         0.77023814,  1.33429064,  0.96155124,  1.9307692 ,  1.38579864],\n",
       "       [ 2.47189908,  2.49551264,  2.90630012,  3.95500974,  1.95740825,\n",
       "         2.57249635,  2.95598885,  2.92757725,  1.38579864,  4.35450718]])"
      ]
     },
     "execution_count": 4,
     "metadata": {},
     "output_type": "execute_result"
    }
   ],
   "source": [
    "matrixSize = 10 \n",
    "D = np.random.rand(matrixSize,matrixSize)\n",
    "Dcov = np.dot(D, D.transpose())\n",
    "Dcov"
   ]
  },
  {
   "cell_type": "code",
   "execution_count": 5,
   "metadata": {
    "collapsed": false
   },
   "outputs": [
    {
     "data": {
      "text/plain": [
       "array([[ 3.51145054,  1.93337301,  3.08437271,  3.21657525,  2.24493976,\n",
       "         2.03348491,  2.01985014,  2.25057503,  1.88203794,  2.47189908],\n",
       "       [ 1.93337301,  2.15163776,  1.85753612,  2.31859026,  1.20664346,\n",
       "         1.22710649,  1.48782284,  1.34494798,  1.35621686,  2.49551264],\n",
       "       [ 3.08437271,  1.85753612,  4.15976846,  4.09701921,  2.33504546,\n",
       "         2.18474252,  2.59208648,  2.68471038,  2.00332419,  2.90630012],\n",
       "       [ 3.21657525,  2.31859026,  4.09701921,  4.96398264,  2.37945627,\n",
       "         2.30132786,  3.21929126,  3.1064809 ,  2.1451942 ,  3.95500974],\n",
       "       [ 2.24493976,  1.20664346,  2.33504546,  2.37945627,  2.07588534,\n",
       "         1.60899574,  1.71604475,  1.94094285,  1.36923793,  1.95740825],\n",
       "       [ 2.03348491,  1.22710649,  2.18474252,  2.30132786,  1.60899574,\n",
       "         2.43089651,  1.9573725 ,  2.30639638,  0.77023814,  2.57249635],\n",
       "       [ 2.01985014,  1.48782284,  2.59208648,  3.21929126,  1.71604475,\n",
       "         1.9573725 ,  2.43319232,  2.36841216,  1.33429064,  2.95598885],\n",
       "       [ 2.25057503,  1.34494798,  2.68471038,  3.1064809 ,  1.94094285,\n",
       "         2.30639638,  2.36841216,  2.85649754,  0.96155124,  2.92757725],\n",
       "       [ 1.88203794,  1.35621686,  2.00332419,  2.1451942 ,  1.36923793,\n",
       "         0.77023814,  1.33429064,  0.96155124,  1.9307692 ,  1.38579864],\n",
       "       [ 2.47189908,  2.49551264,  2.90630012,  3.95500974,  1.95740825,\n",
       "         2.57249635,  2.95598885,  2.92757725,  1.38579864,  4.35450718]])"
      ]
     },
     "execution_count": 5,
     "metadata": {},
     "output_type": "execute_result"
    }
   ],
   "source": [
    "Dcov.T"
   ]
  },
  {
   "cell_type": "code",
   "execution_count": 10,
   "metadata": {
    "collapsed": false
   },
   "outputs": [
    {
     "data": {
      "text/plain": [
       "-9.253085618587447"
      ]
     },
     "execution_count": 10,
     "metadata": {},
     "output_type": "execute_result"
    }
   ],
   "source": [
    "res = Dcov.reshape(-1, ).copy()\n",
    "logdet = cinv(matrixSize, res)\n",
    "Dcovinv = res.reshape(matrixSize, matrixSize)\n",
    "logdet"
   ]
  },
  {
   "cell_type": "code",
   "execution_count": 20,
   "metadata": {
    "collapsed": false
   },
   "outputs": [
    {
     "data": {
      "text/plain": [
       "array([[ 0.,  0.,  0.,  0.,  0.,  0.,  0.,  0.,  0.,  0.],\n",
       "       [ 0.,  0.,  0.,  0.,  0.,  0.,  0.,  0.,  0.,  0.],\n",
       "       [ 0.,  0.,  0.,  0.,  0.,  0.,  0.,  0.,  0.,  0.],\n",
       "       [ 0.,  0.,  0.,  0.,  0.,  0.,  0.,  0.,  0.,  0.],\n",
       "       [ 0.,  0.,  0.,  0.,  0.,  0.,  0.,  0.,  0.,  0.],\n",
       "       [ 0.,  0.,  0.,  0.,  0.,  0.,  0.,  0.,  0.,  0.],\n",
       "       [ 0.,  0.,  0.,  0.,  0.,  0.,  0.,  0.,  0.,  0.],\n",
       "       [ 0.,  0.,  0.,  0.,  0.,  0.,  0.,  0.,  0.,  0.],\n",
       "       [ 0.,  0.,  0.,  0.,  0.,  0.,  0.,  0.,  0.,  0.],\n",
       "       [ 0.,  0.,  0.,  0.,  0.,  0.,  0.,  0.,  0.,  0.]])"
      ]
     },
     "execution_count": 20,
     "metadata": {},
     "output_type": "execute_result"
    }
   ],
   "source": [
    "Dcovinv - Dcovinv.T"
   ]
  },
  {
   "cell_type": "code",
   "execution_count": 12,
   "metadata": {
    "collapsed": false
   },
   "outputs": [
    {
     "data": {
      "text/plain": [
       "array([[  18.44335034,  -34.40821508,   18.95615749,  -34.83257169,\n",
       "         -13.9048531 ,  -27.05360585,  -10.60133455,    8.22936366,\n",
       "          15.14832714,   47.31017266],\n",
       "       [ -34.40821508,   77.33000712,  -39.24931297,   69.03514455,\n",
       "          28.07096118,   53.30932244,   35.53263103,  -19.05256678,\n",
       "         -37.87870409, -104.65870278],\n",
       "       [  18.95615749,  -39.24931297,   23.85435364,  -40.76711753,\n",
       "         -15.54743385,  -30.7667231 ,  -14.03168644,    9.97327737,\n",
       "          18.15690287,   55.04503495],\n",
       "       [ -34.83257169,   69.03514455,  -40.76711753,   73.92480183,\n",
       "          28.00855749,   55.674744  ,   21.59066824,  -18.78701736,\n",
       "         -32.46230403,  -96.89952488],\n",
       "       [ -13.9048531 ,   28.07096118,  -15.54743385,   28.00855749,\n",
       "          13.72966181,   21.07486716,   11.0821529 ,   -9.19288645,\n",
       "         -14.71551323,  -38.53738568],\n",
       "       [ -27.05360585,   53.30932244,  -30.7667231 ,   55.674744  ,\n",
       "          21.07486716,   44.2301037 ,   17.28121372,  -14.97691041,\n",
       "         -24.46442431,  -74.7054169 ],\n",
       "       [ -10.60133455,   35.53263103,  -14.03168644,   21.59066824,\n",
       "          11.0821529 ,   17.28121372,   33.08600679,  -11.47547331,\n",
       "         -21.80187077,  -47.58733644],\n",
       "       [   8.22936366,  -19.05256678,    9.97327737,  -18.78701736,\n",
       "          -9.19288645,  -14.97691041,  -11.47547331,   10.505832  ,\n",
       "          12.03675471,   26.53061679],\n",
       "       [  15.14832714,  -37.87870409,   18.15690287,  -32.46230403,\n",
       "         -14.71551323,  -24.46442431,  -21.80187077,   12.03675471,\n",
       "          22.09262305,   51.21854187],\n",
       "       [  47.31017266, -104.65870278,   55.04503495,  -96.89952488,\n",
       "         -38.53738568,  -74.7054169 ,  -47.58733644,   26.53061679,\n",
       "          51.21854187,  144.24680433]])"
      ]
     },
     "execution_count": 12,
     "metadata": {},
     "output_type": "execute_result"
    }
   ],
   "source": [
    "np.linalg.inv(Dcov)"
   ]
  },
  {
   "cell_type": "code",
   "execution_count": 13,
   "metadata": {
    "collapsed": false
   },
   "outputs": [
    {
     "data": {
      "text/plain": [
       "(1.0, -9.253085618587459)"
      ]
     },
     "execution_count": 13,
     "metadata": {},
     "output_type": "execute_result"
    }
   ],
   "source": [
    "np.linalg.slogdet(Dcov)"
   ]
  },
  {
   "cell_type": "code",
   "execution_count": 16,
   "metadata": {
    "collapsed": true
   },
   "outputs": [],
   "source": [
    "gy = np.random.rand(matrixSize)"
   ]
  },
  {
   "cell_type": "code",
   "execution_count": 17,
   "metadata": {
    "collapsed": false
   },
   "outputs": [
    {
     "data": {
      "text/plain": [
       "10.744932028226962"
      ]
     },
     "execution_count": 17,
     "metadata": {},
     "output_type": "execute_result"
    }
   ],
   "source": [
    "cddot = lib.vTBSYMv\n",
    "cddot.restype = ctypes.c_double\n",
    "cddot.argtypes = [ctypes.c_int,\n",
    "                 np.ctypeslib.ndpointer(ctypes.c_double, ndim=1, flags='C_CONTIGUOUS, ALIGNED'),\n",
    "                 np.ctypeslib.ndpointer(ctypes.c_double, ndim=1, flags='C_CONTIGUOUS, ALIGNED')]\n",
    "np.dot(gy.T, np.dot(Dcovinv, gy))"
   ]
  },
  {
   "cell_type": "code",
   "execution_count": 19,
   "metadata": {
    "collapsed": false
   },
   "outputs": [
    {
     "data": {
      "text/plain": [
       "10.744932028226954"
      ]
     },
     "execution_count": 19,
     "metadata": {},
     "output_type": "execute_result"
    }
   ],
   "source": [
    "cddot(matrixSize, gy, Dcovinv.reshape(-1,))"
   ]
  },
  {
   "cell_type": "code",
   "execution_count": null,
   "metadata": {
    "collapsed": true
   },
   "outputs": [],
   "source": []
  }
 ],
 "metadata": {
  "kernelspec": {
   "display_name": "Python 3",
   "language": "python",
   "name": "python3"
  },
  "language_info": {
   "codemirror_mode": {
    "name": "ipython",
    "version": 3
   },
   "file_extension": ".py",
   "mimetype": "text/x-python",
   "name": "python",
   "nbconvert_exporter": "python",
   "pygments_lexer": "ipython3",
   "version": "3.6.0"
  }
 },
 "nbformat": 4,
 "nbformat_minor": 2
}
