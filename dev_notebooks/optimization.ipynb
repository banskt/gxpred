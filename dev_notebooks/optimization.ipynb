{
 "cells": [
  {
   "cell_type": "code",
   "execution_count": 5,
   "metadata": {},
   "outputs": [],
   "source": [
    "import numpy as np\n",
    "import time\n",
    "from utils import model\n",
    "from inference import log_marginal_likelihood\n",
    "from inference import zstates as zs\n",
    "from inference import zstates_old_method as zs_old\n",
    "from utils import hyperparameters\n",
    "\n",
    "pi = 0.1\n",
    "mu = 0.0\n",
    "sigmabg = 0.001\n",
    "sigma = 0.3\n",
    "tau = 1 / (0.05 * 0.05)\n",
    "\n",
    "x, y, csnps, v = model.simulate(pi = pi,\n",
    "                             mu = mu,\n",
    "                             sigma = sigma,\n",
    "                             sigmabg = sigmabg,\n",
    "                             tau = tau)\n",
    "\n",
    "nvar = x.shape[0]\n",
    "nsample = x.shape[1]\n",
    "params = np.array([pi, mu, sigma, sigmabg, tau])\n",
    "cmax = 1\n",
    "scaledparams = hyperparameters.scale(params)\n",
    "zstates_new = zs.create(scaledparams, x, y, cmax, nvar, 0.98)\n",
    "zstates_old = zs_old.create(scaledparams, x, y, cmax, nvar, 0.98)"
   ]
  },
  {
   "cell_type": "code",
   "execution_count": 9,
   "metadata": {},
   "outputs": [
    {
     "name": "stdout",
     "output_type": "stream",
     "text": [
      "Params here are: 0.005 0 0.1 0.1 0.5\n",
      "Derivative of tau by brute force is -107.366389\n",
      "Derivative of tau from equation is -107.365503\n",
      "Params here are: 0.00497808 0 0.099922 0.073315 0.193256\n",
      "Derivative of tau by brute force is -97.345153\n",
      "Derivative of tau from equation is -97.345291\n",
      "Params here are: 0.00488864 0 0.184949 0.0368938 0.000938695\n",
      "Derivative of tau by brute force is 505.951337\n",
      "Derivative of tau from equation is 506.012608\n",
      "Params here are: 0.00496569 0 0.108748 0.0667104 0.092914\n",
      "Derivative of tau by brute force is -98.316720\n",
      "Derivative of tau from equation is -98.316856\n",
      "Params here are: 0.00491746 0 0.15148 0.0460949 0.00528052\n",
      "Derivative of tau by brute force is -80.806762\n",
      "Derivative of tau from equation is -80.804843\n",
      "Params here are: 0.00480566 0 0.354951 0.0513107 4.80146e-06\n",
      "Derivative of tau by brute force is 23159809.439071\n",
      "Derivative of tau from equation is 23162128.440669\n",
      "Params here are: 0.00488302 0 0.1965 0.0476299 0.000621303\n",
      "Derivative of tau by brute force is 1283.181331\n",
      "Derivative of tau from equation is 1283.314366\n",
      "Params here are: 0.00490649 0 0.164533 0.0465771 0.00267571\n",
      "Derivative of tau by brute force is -25.411745\n",
      "Derivative of tau from equation is -25.404295\n",
      "Params here are: 0.00488658 0 0.181485 0.0778689 0.00200313\n",
      "Derivative of tau by brute force is 33.066291\n",
      "Derivative of tau from equation is 33.079431\n",
      "Params here are: 0.00489162 0 0.178681 0.083343 0.00292525\n",
      "Derivative of tau by brute force is -37.604075\n",
      "Derivative of tau from equation is -37.597524\n",
      "Params here are: 0.00488863 0 0.180341 0.0800467 0.00233603\n",
      "Derivative of tau by brute force is -2.157152\n",
      "Derivative of tau from equation is -2.147413\n",
      "Params here are: 0.00488792 0 0.190562 0.0818219 0.00231775\n",
      "Derivative of tau by brute force is -0.608515\n",
      "Derivative of tau from equation is -0.598605\n",
      "Params here are: 0.00488659 0 0.23342 0.0858704 0.00227497\n",
      "Derivative of tau by brute force is 3.164919\n",
      "Derivative of tau from equation is 3.174925\n",
      "Params here are: 0.00488683 0 0.271959 0.0866393 0.00227219\n",
      "Derivative of tau by brute force is 3.417716\n",
      "Derivative of tau from equation is 3.427775\n",
      "Params here are: 0.00489009 0 0.375741 0.0848634 0.00229566\n",
      "Derivative of tau by brute force is 1.313937\n",
      "Derivative of tau from equation is 1.323902\n",
      "Params here are: 0.00489447 0 0.485312 0.0829962 0.00231007\n",
      "Derivative of tau by brute force is 0.053575\n",
      "Derivative of tau from equation is 0.063572\n",
      "Params here are: 0.00489742 0 0.569833 0.0824865 0.00231405\n",
      "Derivative of tau by brute force is -0.290413\n",
      "Derivative of tau from equation is -0.280137\n",
      "Params here are: 0.00490077 0 0.640385 0.0826006 0.00231324\n",
      "Derivative of tau by brute force is -0.220373\n",
      "Derivative of tau from equation is -0.210039\n",
      "Params here are: 0.00491091 0 0.678555 0.0828683 0.00231085\n",
      "Derivative of tau by brute force is -0.013421\n",
      "Derivative of tau from equation is -0.003800\n",
      "Params here are: 0.00491281 0 0.685393 0.0828812 0.00231071\n",
      "Derivative of tau by brute force is -0.002039\n",
      "Derivative of tau from equation is 0.008063\n",
      "Params here are: 0.00491726 0 0.686992 0.0828662 0.00231082\n",
      "Derivative of tau by brute force is -0.011305\n",
      "Derivative of tau from equation is -0.001449\n",
      "Params here are: 0.00492112 0 0.687655 0.0828627 0.00231089\n",
      "Derivative of tau by brute force is -0.017202\n",
      "Derivative of tau from equation is -0.007107\n",
      "Params here are: 0.00493746 0 0.689025 0.0828562 0.00231091\n",
      "Derivative of tau by brute force is -0.018643\n",
      "Derivative of tau from equation is -0.008943\n",
      "Params here are: 0.00496612 0 0.689817 0.0828604 0.00231142\n",
      "Derivative of tau by brute force is -0.063088\n",
      "Derivative of tau from equation is -0.052926\n",
      "Params here are: 0.00501468 0 0.689559 0.0828524 0.00230967\n",
      "Derivative of tau by brute force is 0.088948\n",
      "Derivative of tau from equation is 0.098799\n",
      "Params here are: 0.00498989 0 0.68969 0.0828565 0.00231056\n",
      "Derivative of tau by brute force is 0.011566\n",
      "Derivative of tau from equation is 0.021502\n",
      "Params here are: 0.00500014 0 0.68811 0.0828648 0.00231083\n",
      "Derivative of tau by brute force is -0.011945\n",
      "Derivative of tau from equation is -0.001969\n",
      "Params here are: 0.00500079 0 0.686741 0.082871 0.00231083\n",
      "Derivative of tau by brute force is -0.012106\n",
      "Derivative of tau from equation is -0.001939\n",
      "Params here are: 0.00500008 0 0.686663 0.082871 0.00231081\n",
      "Derivative of tau by brute force is -0.010558\n",
      "Derivative of tau from equation is -0.000229\n"
     ]
    }
   ],
   "source": [
    "from scipy import optimize\n",
    "init_params = np.array([0.005, 0.0, 0.1, 0.1, 1 / 0.5 / 0.5])\n",
    "scaledparams = hyperparameters.scale(init_params)\n",
    "bounds = [[scaledparams[i], scaledparams[i]] for i in range(5)]\n",
    "bounds[0] = [None, None]\n",
    "#bounds[1] = [None, None]\n",
    "bounds[2] = [None, None]\n",
    "bounds[3] = [None, None]\n",
    "bounds[4] = [None, None]\n",
    "args = x, y, zstates_old\n",
    "lml_min = optimize.minimize(log_marginal_likelihood.func_grad,\n",
    "                            scaledparams,\n",
    "                            args = args,\n",
    "                            method='L-BFGS-B',\n",
    "                            jac=True,\n",
    "                            bounds=bounds,\n",
    "                            options={'maxiter': 200000,\n",
    "                                     'maxfun': 2000000,\n",
    "                                     'ftol': 1e-9,\n",
    "                                     'gtol': 1e-9,\n",
    "                                     'disp': True})"
   ]
  },
  {
   "cell_type": "code",
   "execution_count": 10,
   "metadata": {},
   "outputs": [
    {
     "data": {
      "text/plain": [
       "      fun: -120.81014713472621\n",
       " hess_inv: <5x5 LbfgsInvHessProduct with dtype=float64>\n",
       "      jac: array([  1.60908595e-05,   1.45632164e-02,  -3.54305475e-06,\n",
       "        -1.08769687e-04,   2.28525560e-04])\n",
       "  message: b'CONVERGENCE: REL_REDUCTION_OF_F_<=_FACTR*EPSMCH'\n",
       "     nfev: 29\n",
       "      nit: 22\n",
       "   status: 0\n",
       "  success: True\n",
       "        x: array([-5.29328865,  0.        , -0.37591214, -2.49047032, -6.07015747])"
      ]
     },
     "execution_count": 10,
     "metadata": {},
     "output_type": "execute_result"
    }
   ],
   "source": [
    "lml_min"
   ]
  },
  {
   "cell_type": "code",
   "execution_count": 11,
   "metadata": {},
   "outputs": [
    {
     "name": "stdout",
     "output_type": "stream",
     "text": [
      "0.00500008\n",
      "0\n",
      "0.686663\n",
      "0.082871\n",
      "0.00231081\n"
     ]
    }
   ],
   "source": [
    "res = hyperparameters.descale(lml_min.x)\n",
    "res[4] = np.sqrt(1 / res[4])\n",
    "print('\\n'.join(['{:g}'.format(x) for x in list(res)]))"
   ]
  },
  {
   "cell_type": "code",
   "execution_count": null,
   "metadata": {
    "collapsed": true
   },
   "outputs": [],
   "source": []
  }
 ],
 "metadata": {
  "kernelspec": {
   "display_name": "Python 3",
   "language": "python",
   "name": "python3"
  },
  "language_info": {
   "codemirror_mode": {
    "name": "ipython",
    "version": 3
   },
   "file_extension": ".py",
   "mimetype": "text/x-python",
   "name": "python",
   "nbconvert_exporter": "python",
   "pygments_lexer": "ipython3",
   "version": "3.6.1"
  }
 },
 "nbformat": 4,
 "nbformat_minor": 2
}
